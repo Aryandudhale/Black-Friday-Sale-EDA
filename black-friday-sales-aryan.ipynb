{
 "cells": [
  {
   "cell_type": "code",
   "execution_count": 1,
   "id": "50941afe",
   "metadata": {
    "_cell_guid": "b1076dfc-b9ad-4769-8c92-a6c4dae69d19",
    "_uuid": "8f2839f25d086af736a60e9eeb907d3b93b6e0e5",
    "execution": {
     "iopub.execute_input": "2023-12-20T06:56:07.881718Z",
     "iopub.status.busy": "2023-12-20T06:56:07.881267Z",
     "iopub.status.idle": "2023-12-20T06:56:08.340375Z",
     "shell.execute_reply": "2023-12-20T06:56:08.339070Z"
    },
    "papermill": {
     "duration": 0.479768,
     "end_time": "2023-12-20T06:56:08.342737",
     "exception": false,
     "start_time": "2023-12-20T06:56:07.862969",
     "status": "completed"
    },
    "tags": []
   },
   "outputs": [
    {
     "name": "stdout",
     "output_type": "stream",
     "text": [
      "/kaggle/input/black-friday-sales-eda/train.csv\n"
     ]
    }
   ],
   "source": [
    "# This Python 3 environment comes with many helpful analytics libraries installed\n",
    "# It is defined by the kaggle/python Docker image: https://github.com/kaggle/docker-python\n",
    "# For example, here's several helpful packages to load\n",
    "\n",
    "import numpy as np # linear algebra\n",
    "import pandas as pd # data processing, CSV file I/O (e.g. pd.read_csv)\n",
    "\n",
    "# Input data files are available in the read-only \"../input/\" directory\n",
    "# For example, running this (by clicking run or pressing Shift+Enter) will list all files under the input directory\n",
    "\n",
    "import os\n",
    "for dirname, _, filenames in os.walk('/kaggle/input'):\n",
    "    for filename in filenames:\n",
    "        print(os.path.join(dirname, filename))\n",
    "\n",
    "# You can write up to 20GB to the current directory (/kaggle/working/) that gets preserved as output when you create a version using \"Save & Run All\" \n",
    "# You can also write temporary files to /kaggle/temp/, but they won't be saved outside of the current session"
   ]
  },
  {
   "cell_type": "code",
   "execution_count": 2,
   "id": "85408e92",
   "metadata": {
    "execution": {
     "iopub.execute_input": "2023-12-20T06:56:08.376610Z",
     "iopub.status.busy": "2023-12-20T06:56:08.375992Z",
     "iopub.status.idle": "2023-12-20T06:56:09.678109Z",
     "shell.execute_reply": "2023-12-20T06:56:09.676888Z"
    },
    "papermill": {
     "duration": 1.32201,
     "end_time": "2023-12-20T06:56:09.680706",
     "exception": false,
     "start_time": "2023-12-20T06:56:08.358696",
     "status": "completed"
    },
    "tags": []
   },
   "outputs": [
    {
     "data": {
      "text/html": [
       "<div>\n",
       "<style scoped>\n",
       "    .dataframe tbody tr th:only-of-type {\n",
       "        vertical-align: middle;\n",
       "    }\n",
       "\n",
       "    .dataframe tbody tr th {\n",
       "        vertical-align: top;\n",
       "    }\n",
       "\n",
       "    .dataframe thead th {\n",
       "        text-align: right;\n",
       "    }\n",
       "</style>\n",
       "<table border=\"1\" class=\"dataframe\">\n",
       "  <thead>\n",
       "    <tr style=\"text-align: right;\">\n",
       "      <th></th>\n",
       "      <th>User_ID</th>\n",
       "      <th>Product_ID</th>\n",
       "      <th>Gender</th>\n",
       "      <th>Age</th>\n",
       "      <th>Occupation</th>\n",
       "      <th>City_Category</th>\n",
       "      <th>Stay_In_Current_City_Years</th>\n",
       "      <th>Marital_Status</th>\n",
       "      <th>Product_Category_1</th>\n",
       "      <th>Product_Category_2</th>\n",
       "      <th>Product_Category_3</th>\n",
       "      <th>Purchase</th>\n",
       "    </tr>\n",
       "  </thead>\n",
       "  <tbody>\n",
       "    <tr>\n",
       "      <th>0</th>\n",
       "      <td>1000001</td>\n",
       "      <td>P00069042</td>\n",
       "      <td>F</td>\n",
       "      <td>0-17</td>\n",
       "      <td>10</td>\n",
       "      <td>A</td>\n",
       "      <td>2</td>\n",
       "      <td>0</td>\n",
       "      <td>3</td>\n",
       "      <td>NaN</td>\n",
       "      <td>NaN</td>\n",
       "      <td>8370</td>\n",
       "    </tr>\n",
       "    <tr>\n",
       "      <th>1</th>\n",
       "      <td>1000001</td>\n",
       "      <td>P00248942</td>\n",
       "      <td>F</td>\n",
       "      <td>0-17</td>\n",
       "      <td>10</td>\n",
       "      <td>A</td>\n",
       "      <td>2</td>\n",
       "      <td>0</td>\n",
       "      <td>1</td>\n",
       "      <td>6.0</td>\n",
       "      <td>14.0</td>\n",
       "      <td>15200</td>\n",
       "    </tr>\n",
       "    <tr>\n",
       "      <th>2</th>\n",
       "      <td>1000001</td>\n",
       "      <td>P00087842</td>\n",
       "      <td>F</td>\n",
       "      <td>0-17</td>\n",
       "      <td>10</td>\n",
       "      <td>A</td>\n",
       "      <td>2</td>\n",
       "      <td>0</td>\n",
       "      <td>12</td>\n",
       "      <td>NaN</td>\n",
       "      <td>NaN</td>\n",
       "      <td>1422</td>\n",
       "    </tr>\n",
       "    <tr>\n",
       "      <th>3</th>\n",
       "      <td>1000001</td>\n",
       "      <td>P00085442</td>\n",
       "      <td>F</td>\n",
       "      <td>0-17</td>\n",
       "      <td>10</td>\n",
       "      <td>A</td>\n",
       "      <td>2</td>\n",
       "      <td>0</td>\n",
       "      <td>12</td>\n",
       "      <td>14.0</td>\n",
       "      <td>NaN</td>\n",
       "      <td>1057</td>\n",
       "    </tr>\n",
       "    <tr>\n",
       "      <th>4</th>\n",
       "      <td>1000002</td>\n",
       "      <td>P00285442</td>\n",
       "      <td>M</td>\n",
       "      <td>55+</td>\n",
       "      <td>16</td>\n",
       "      <td>C</td>\n",
       "      <td>4+</td>\n",
       "      <td>0</td>\n",
       "      <td>8</td>\n",
       "      <td>NaN</td>\n",
       "      <td>NaN</td>\n",
       "      <td>7969</td>\n",
       "    </tr>\n",
       "  </tbody>\n",
       "</table>\n",
       "</div>"
      ],
      "text/plain": [
       "   User_ID Product_ID Gender   Age  Occupation City_Category  \\\n",
       "0  1000001  P00069042      F  0-17          10             A   \n",
       "1  1000001  P00248942      F  0-17          10             A   \n",
       "2  1000001  P00087842      F  0-17          10             A   \n",
       "3  1000001  P00085442      F  0-17          10             A   \n",
       "4  1000002  P00285442      M   55+          16             C   \n",
       "\n",
       "  Stay_In_Current_City_Years  Marital_Status  Product_Category_1  \\\n",
       "0                          2               0                   3   \n",
       "1                          2               0                   1   \n",
       "2                          2               0                  12   \n",
       "3                          2               0                  12   \n",
       "4                         4+               0                   8   \n",
       "\n",
       "   Product_Category_2  Product_Category_3  Purchase  \n",
       "0                 NaN                 NaN      8370  \n",
       "1                 6.0                14.0     15200  \n",
       "2                 NaN                 NaN      1422  \n",
       "3                14.0                 NaN      1057  \n",
       "4                 NaN                 NaN      7969  "
      ]
     },
     "execution_count": 2,
     "metadata": {},
     "output_type": "execute_result"
    }
   ],
   "source": [
    "df=pd.read_csv(\"/kaggle/input/black-friday-sales-eda/train.csv\")\n",
    "df.head(5)"
   ]
  },
  {
   "cell_type": "code",
   "execution_count": 3,
   "id": "7f91c3ac",
   "metadata": {
    "execution": {
     "iopub.execute_input": "2023-12-20T06:56:09.714964Z",
     "iopub.status.busy": "2023-12-20T06:56:09.714528Z",
     "iopub.status.idle": "2023-12-20T06:56:10.028505Z",
     "shell.execute_reply": "2023-12-20T06:56:10.026408Z"
    },
    "papermill": {
     "duration": 0.334482,
     "end_time": "2023-12-20T06:56:10.031336",
     "exception": false,
     "start_time": "2023-12-20T06:56:09.696854",
     "status": "completed"
    },
    "tags": []
   },
   "outputs": [
    {
     "name": "stdout",
     "output_type": "stream",
     "text": [
      "<class 'pandas.core.frame.DataFrame'>\n",
      "RangeIndex: 550068 entries, 0 to 550067\n",
      "Data columns (total 12 columns):\n",
      " #   Column                      Non-Null Count   Dtype  \n",
      "---  ------                      --------------   -----  \n",
      " 0   User_ID                     550068 non-null  int64  \n",
      " 1   Product_ID                  550068 non-null  object \n",
      " 2   Gender                      550068 non-null  object \n",
      " 3   Age                         550068 non-null  object \n",
      " 4   Occupation                  550068 non-null  int64  \n",
      " 5   City_Category               550068 non-null  object \n",
      " 6   Stay_In_Current_City_Years  550068 non-null  object \n",
      " 7   Marital_Status              550068 non-null  int64  \n",
      " 8   Product_Category_1          550068 non-null  int64  \n",
      " 9   Product_Category_2          376430 non-null  float64\n",
      " 10  Product_Category_3          166821 non-null  float64\n",
      " 11  Purchase                    550068 non-null  int64  \n",
      "dtypes: float64(2), int64(5), object(5)\n",
      "memory usage: 50.4+ MB\n"
     ]
    }
   ],
   "source": [
    "df.info()"
   ]
  },
  {
   "cell_type": "code",
   "execution_count": 4,
   "id": "c97eedf8",
   "metadata": {
    "execution": {
     "iopub.execute_input": "2023-12-20T06:56:10.065776Z",
     "iopub.status.busy": "2023-12-20T06:56:10.065371Z",
     "iopub.status.idle": "2023-12-20T06:56:10.073028Z",
     "shell.execute_reply": "2023-12-20T06:56:10.071739Z"
    },
    "papermill": {
     "duration": 0.027911,
     "end_time": "2023-12-20T06:56:10.075504",
     "exception": false,
     "start_time": "2023-12-20T06:56:10.047593",
     "status": "completed"
    },
    "tags": []
   },
   "outputs": [
    {
     "data": {
      "text/plain": [
       "(550068, 12)"
      ]
     },
     "execution_count": 4,
     "metadata": {},
     "output_type": "execute_result"
    }
   ],
   "source": [
    "df.shape"
   ]
  },
  {
   "cell_type": "code",
   "execution_count": 5,
   "id": "dd452969",
   "metadata": {
    "execution": {
     "iopub.execute_input": "2023-12-20T06:56:10.110204Z",
     "iopub.status.busy": "2023-12-20T06:56:10.109782Z",
     "iopub.status.idle": "2023-12-20T06:56:10.118285Z",
     "shell.execute_reply": "2023-12-20T06:56:10.117383Z"
    },
    "papermill": {
     "duration": 0.028658,
     "end_time": "2023-12-20T06:56:10.120528",
     "exception": false,
     "start_time": "2023-12-20T06:56:10.091870",
     "status": "completed"
    },
    "tags": []
   },
   "outputs": [
    {
     "data": {
      "text/plain": [
       "int64      5\n",
       "object     5\n",
       "float64    2\n",
       "Name: count, dtype: int64"
      ]
     },
     "execution_count": 5,
     "metadata": {},
     "output_type": "execute_result"
    }
   ],
   "source": [
    "df.dtypes.value_counts()"
   ]
  },
  {
   "cell_type": "markdown",
   "id": "bc368c12",
   "metadata": {
    "papermill": {
     "duration": 0.016258,
     "end_time": "2023-12-20T06:56:10.154281",
     "exception": false,
     "start_time": "2023-12-20T06:56:10.138023",
     "status": "completed"
    },
    "tags": []
   },
   "source": [
    "Check the null values"
   ]
  },
  {
   "cell_type": "code",
   "execution_count": 6,
   "id": "ade9fb9c",
   "metadata": {
    "execution": {
     "iopub.execute_input": "2023-12-20T06:56:10.189274Z",
     "iopub.status.busy": "2023-12-20T06:56:10.188866Z",
     "iopub.status.idle": "2023-12-20T06:56:10.483077Z",
     "shell.execute_reply": "2023-12-20T06:56:10.481835Z"
    },
    "papermill": {
     "duration": 0.315029,
     "end_time": "2023-12-20T06:56:10.485818",
     "exception": false,
     "start_time": "2023-12-20T06:56:10.170789",
     "status": "completed"
    },
    "tags": []
   },
   "outputs": [
    {
     "data": {
      "text/plain": [
       "User_ID                            0\n",
       "Product_ID                         0\n",
       "Gender                             0\n",
       "Age                                0\n",
       "Occupation                         0\n",
       "City_Category                      0\n",
       "Stay_In_Current_City_Years         0\n",
       "Marital_Status                     0\n",
       "Product_Category_1                 0\n",
       "Product_Category_2            173638\n",
       "Product_Category_3            383247\n",
       "Purchase                           0\n",
       "dtype: int64"
      ]
     },
     "execution_count": 6,
     "metadata": {},
     "output_type": "execute_result"
    }
   ],
   "source": [
    "df.isnull().sum()"
   ]
  },
  {
   "cell_type": "markdown",
   "id": "494faff4",
   "metadata": {
    "papermill": {
     "duration": 0.017111,
     "end_time": "2023-12-20T06:56:10.520558",
     "exception": false,
     "start_time": "2023-12-20T06:56:10.503447",
     "status": "completed"
    },
    "tags": []
   },
   "source": [
    "Check the duplicate values"
   ]
  },
  {
   "cell_type": "code",
   "execution_count": 7,
   "id": "8fced5c6",
   "metadata": {
    "execution": {
     "iopub.execute_input": "2023-12-20T06:56:10.556498Z",
     "iopub.status.busy": "2023-12-20T06:56:10.555686Z",
     "iopub.status.idle": "2023-12-20T06:56:10.975836Z",
     "shell.execute_reply": "2023-12-20T06:56:10.974615Z"
    },
    "papermill": {
     "duration": 0.440845,
     "end_time": "2023-12-20T06:56:10.978374",
     "exception": false,
     "start_time": "2023-12-20T06:56:10.537529",
     "status": "completed"
    },
    "tags": []
   },
   "outputs": [
    {
     "data": {
      "text/plain": [
       "0"
      ]
     },
     "execution_count": 7,
     "metadata": {},
     "output_type": "execute_result"
    }
   ],
   "source": [
    "df.duplicated().sum()"
   ]
  },
  {
   "cell_type": "markdown",
   "id": "5fd6c3d5",
   "metadata": {
    "papermill": {
     "duration": 0.016477,
     "end_time": "2023-12-20T06:56:11.012479",
     "exception": false,
     "start_time": "2023-12-20T06:56:10.996002",
     "status": "completed"
    },
    "tags": []
   },
   "source": [
    "Drop unnecessary columns"
   ]
  },
  {
   "cell_type": "code",
   "execution_count": 8,
   "id": "b7f6263b",
   "metadata": {
    "execution": {
     "iopub.execute_input": "2023-12-20T06:56:11.047599Z",
     "iopub.status.busy": "2023-12-20T06:56:11.047182Z",
     "iopub.status.idle": "2023-12-20T06:56:11.078965Z",
     "shell.execute_reply": "2023-12-20T06:56:11.078059Z"
    },
    "papermill": {
     "duration": 0.052436,
     "end_time": "2023-12-20T06:56:11.081625",
     "exception": false,
     "start_time": "2023-12-20T06:56:11.029189",
     "status": "completed"
    },
    "tags": []
   },
   "outputs": [],
   "source": [
    "df.drop(columns=['User_ID','Product_ID','Product_Category_3'],inplace=True)"
   ]
  },
  {
   "cell_type": "code",
   "execution_count": 9,
   "id": "6c736c1c",
   "metadata": {
    "execution": {
     "iopub.execute_input": "2023-12-20T06:56:11.181695Z",
     "iopub.status.busy": "2023-12-20T06:56:11.181022Z",
     "iopub.status.idle": "2023-12-20T06:56:11.196140Z",
     "shell.execute_reply": "2023-12-20T06:56:11.194873Z"
    },
    "papermill": {
     "duration": 0.099775,
     "end_time": "2023-12-20T06:56:11.198650",
     "exception": false,
     "start_time": "2023-12-20T06:56:11.098875",
     "status": "completed"
    },
    "tags": []
   },
   "outputs": [
    {
     "data": {
      "text/html": [
       "<div>\n",
       "<style scoped>\n",
       "    .dataframe tbody tr th:only-of-type {\n",
       "        vertical-align: middle;\n",
       "    }\n",
       "\n",
       "    .dataframe tbody tr th {\n",
       "        vertical-align: top;\n",
       "    }\n",
       "\n",
       "    .dataframe thead th {\n",
       "        text-align: right;\n",
       "    }\n",
       "</style>\n",
       "<table border=\"1\" class=\"dataframe\">\n",
       "  <thead>\n",
       "    <tr style=\"text-align: right;\">\n",
       "      <th></th>\n",
       "      <th>Gender</th>\n",
       "      <th>Age</th>\n",
       "      <th>Occupation</th>\n",
       "      <th>City_Category</th>\n",
       "      <th>Stay_In_Current_City_Years</th>\n",
       "      <th>Marital_Status</th>\n",
       "      <th>Product_Category_1</th>\n",
       "      <th>Product_Category_2</th>\n",
       "      <th>Purchase</th>\n",
       "    </tr>\n",
       "  </thead>\n",
       "  <tbody>\n",
       "    <tr>\n",
       "      <th>0</th>\n",
       "      <td>F</td>\n",
       "      <td>0-17</td>\n",
       "      <td>10</td>\n",
       "      <td>A</td>\n",
       "      <td>2</td>\n",
       "      <td>0</td>\n",
       "      <td>3</td>\n",
       "      <td>NaN</td>\n",
       "      <td>8370</td>\n",
       "    </tr>\n",
       "    <tr>\n",
       "      <th>1</th>\n",
       "      <td>F</td>\n",
       "      <td>0-17</td>\n",
       "      <td>10</td>\n",
       "      <td>A</td>\n",
       "      <td>2</td>\n",
       "      <td>0</td>\n",
       "      <td>1</td>\n",
       "      <td>6.0</td>\n",
       "      <td>15200</td>\n",
       "    </tr>\n",
       "    <tr>\n",
       "      <th>2</th>\n",
       "      <td>F</td>\n",
       "      <td>0-17</td>\n",
       "      <td>10</td>\n",
       "      <td>A</td>\n",
       "      <td>2</td>\n",
       "      <td>0</td>\n",
       "      <td>12</td>\n",
       "      <td>NaN</td>\n",
       "      <td>1422</td>\n",
       "    </tr>\n",
       "    <tr>\n",
       "      <th>3</th>\n",
       "      <td>F</td>\n",
       "      <td>0-17</td>\n",
       "      <td>10</td>\n",
       "      <td>A</td>\n",
       "      <td>2</td>\n",
       "      <td>0</td>\n",
       "      <td>12</td>\n",
       "      <td>14.0</td>\n",
       "      <td>1057</td>\n",
       "    </tr>\n",
       "    <tr>\n",
       "      <th>4</th>\n",
       "      <td>M</td>\n",
       "      <td>55+</td>\n",
       "      <td>16</td>\n",
       "      <td>C</td>\n",
       "      <td>4+</td>\n",
       "      <td>0</td>\n",
       "      <td>8</td>\n",
       "      <td>NaN</td>\n",
       "      <td>7969</td>\n",
       "    </tr>\n",
       "  </tbody>\n",
       "</table>\n",
       "</div>"
      ],
      "text/plain": [
       "  Gender   Age  Occupation City_Category Stay_In_Current_City_Years  \\\n",
       "0      F  0-17          10             A                          2   \n",
       "1      F  0-17          10             A                          2   \n",
       "2      F  0-17          10             A                          2   \n",
       "3      F  0-17          10             A                          2   \n",
       "4      M   55+          16             C                         4+   \n",
       "\n",
       "   Marital_Status  Product_Category_1  Product_Category_2  Purchase  \n",
       "0               0                   3                 NaN      8370  \n",
       "1               0                   1                 6.0     15200  \n",
       "2               0                  12                 NaN      1422  \n",
       "3               0                  12                14.0      1057  \n",
       "4               0                   8                 NaN      7969  "
      ]
     },
     "execution_count": 9,
     "metadata": {},
     "output_type": "execute_result"
    }
   ],
   "source": [
    "df.head()"
   ]
  },
  {
   "cell_type": "markdown",
   "id": "c1ee504e",
   "metadata": {
    "papermill": {
     "duration": 0.017069,
     "end_time": "2023-12-20T06:56:11.233525",
     "exception": false,
     "start_time": "2023-12-20T06:56:11.216456",
     "status": "completed"
    },
    "tags": []
   },
   "source": [
    "Rename columns"
   ]
  },
  {
   "cell_type": "code",
   "execution_count": 10,
   "id": "706b977e",
   "metadata": {
    "execution": {
     "iopub.execute_input": "2023-12-20T06:56:11.271015Z",
     "iopub.status.busy": "2023-12-20T06:56:11.270097Z",
     "iopub.status.idle": "2023-12-20T06:56:11.276256Z",
     "shell.execute_reply": "2023-12-20T06:56:11.275056Z"
    },
    "papermill": {
     "duration": 0.027882,
     "end_time": "2023-12-20T06:56:11.278960",
     "exception": false,
     "start_time": "2023-12-20T06:56:11.251078",
     "status": "completed"
    },
    "tags": []
   },
   "outputs": [],
   "source": [
    "df.rename(columns = {'City_Category':'City', 'Stay_In_Current_City_Years':'Years_in_City'}, inplace = True)"
   ]
  },
  {
   "cell_type": "code",
   "execution_count": 11,
   "id": "c01927ee",
   "metadata": {
    "execution": {
     "iopub.execute_input": "2023-12-20T06:56:11.315631Z",
     "iopub.status.busy": "2023-12-20T06:56:11.315086Z",
     "iopub.status.idle": "2023-12-20T06:56:11.331373Z",
     "shell.execute_reply": "2023-12-20T06:56:11.330108Z"
    },
    "papermill": {
     "duration": 0.037641,
     "end_time": "2023-12-20T06:56:11.333928",
     "exception": false,
     "start_time": "2023-12-20T06:56:11.296287",
     "status": "completed"
    },
    "tags": []
   },
   "outputs": [
    {
     "data": {
      "text/html": [
       "<div>\n",
       "<style scoped>\n",
       "    .dataframe tbody tr th:only-of-type {\n",
       "        vertical-align: middle;\n",
       "    }\n",
       "\n",
       "    .dataframe tbody tr th {\n",
       "        vertical-align: top;\n",
       "    }\n",
       "\n",
       "    .dataframe thead th {\n",
       "        text-align: right;\n",
       "    }\n",
       "</style>\n",
       "<table border=\"1\" class=\"dataframe\">\n",
       "  <thead>\n",
       "    <tr style=\"text-align: right;\">\n",
       "      <th></th>\n",
       "      <th>Gender</th>\n",
       "      <th>Age</th>\n",
       "      <th>Occupation</th>\n",
       "      <th>City</th>\n",
       "      <th>Years_in_City</th>\n",
       "      <th>Marital_Status</th>\n",
       "      <th>Product_Category_1</th>\n",
       "      <th>Product_Category_2</th>\n",
       "      <th>Purchase</th>\n",
       "    </tr>\n",
       "  </thead>\n",
       "  <tbody>\n",
       "    <tr>\n",
       "      <th>0</th>\n",
       "      <td>F</td>\n",
       "      <td>0-17</td>\n",
       "      <td>10</td>\n",
       "      <td>A</td>\n",
       "      <td>2</td>\n",
       "      <td>0</td>\n",
       "      <td>3</td>\n",
       "      <td>NaN</td>\n",
       "      <td>8370</td>\n",
       "    </tr>\n",
       "    <tr>\n",
       "      <th>1</th>\n",
       "      <td>F</td>\n",
       "      <td>0-17</td>\n",
       "      <td>10</td>\n",
       "      <td>A</td>\n",
       "      <td>2</td>\n",
       "      <td>0</td>\n",
       "      <td>1</td>\n",
       "      <td>6.0</td>\n",
       "      <td>15200</td>\n",
       "    </tr>\n",
       "    <tr>\n",
       "      <th>2</th>\n",
       "      <td>F</td>\n",
       "      <td>0-17</td>\n",
       "      <td>10</td>\n",
       "      <td>A</td>\n",
       "      <td>2</td>\n",
       "      <td>0</td>\n",
       "      <td>12</td>\n",
       "      <td>NaN</td>\n",
       "      <td>1422</td>\n",
       "    </tr>\n",
       "    <tr>\n",
       "      <th>3</th>\n",
       "      <td>F</td>\n",
       "      <td>0-17</td>\n",
       "      <td>10</td>\n",
       "      <td>A</td>\n",
       "      <td>2</td>\n",
       "      <td>0</td>\n",
       "      <td>12</td>\n",
       "      <td>14.0</td>\n",
       "      <td>1057</td>\n",
       "    </tr>\n",
       "    <tr>\n",
       "      <th>4</th>\n",
       "      <td>M</td>\n",
       "      <td>55+</td>\n",
       "      <td>16</td>\n",
       "      <td>C</td>\n",
       "      <td>4+</td>\n",
       "      <td>0</td>\n",
       "      <td>8</td>\n",
       "      <td>NaN</td>\n",
       "      <td>7969</td>\n",
       "    </tr>\n",
       "  </tbody>\n",
       "</table>\n",
       "</div>"
      ],
      "text/plain": [
       "  Gender   Age  Occupation City Years_in_City  Marital_Status  \\\n",
       "0      F  0-17          10    A             2               0   \n",
       "1      F  0-17          10    A             2               0   \n",
       "2      F  0-17          10    A             2               0   \n",
       "3      F  0-17          10    A             2               0   \n",
       "4      M   55+          16    C            4+               0   \n",
       "\n",
       "   Product_Category_1  Product_Category_2  Purchase  \n",
       "0                   3                 NaN      8370  \n",
       "1                   1                 6.0     15200  \n",
       "2                  12                 NaN      1422  \n",
       "3                  12                14.0      1057  \n",
       "4                   8                 NaN      7969  "
      ]
     },
     "execution_count": 11,
     "metadata": {},
     "output_type": "execute_result"
    }
   ],
   "source": [
    "df.head()"
   ]
  },
  {
   "cell_type": "markdown",
   "id": "8fa0860f",
   "metadata": {
    "papermill": {
     "duration": 0.017428,
     "end_time": "2023-12-20T06:56:11.368938",
     "exception": false,
     "start_time": "2023-12-20T06:56:11.351510",
     "status": "completed"
    },
    "tags": []
   },
   "source": [
    "Categorizing Columns"
   ]
  },
  {
   "cell_type": "code",
   "execution_count": 12,
   "id": "79d9979e",
   "metadata": {
    "execution": {
     "iopub.execute_input": "2023-12-20T06:56:11.405845Z",
     "iopub.status.busy": "2023-12-20T06:56:11.405433Z",
     "iopub.status.idle": "2023-12-20T06:56:11.458546Z",
     "shell.execute_reply": "2023-12-20T06:56:11.457123Z"
    },
    "papermill": {
     "duration": 0.074662,
     "end_time": "2023-12-20T06:56:11.461086",
     "exception": false,
     "start_time": "2023-12-20T06:56:11.386424",
     "status": "completed"
    },
    "tags": []
   },
   "outputs": [
    {
     "data": {
      "text/plain": [
       "array(['0-17', '55+', '26-35', '46-50', '51-55', '36-45', '18-25'],\n",
       "      dtype=object)"
      ]
     },
     "execution_count": 12,
     "metadata": {},
     "output_type": "execute_result"
    }
   ],
   "source": [
    "df['Age'].unique()"
   ]
  },
  {
   "cell_type": "code",
   "execution_count": 13,
   "id": "80affca5",
   "metadata": {
    "execution": {
     "iopub.execute_input": "2023-12-20T06:56:11.498934Z",
     "iopub.status.busy": "2023-12-20T06:56:11.498533Z",
     "iopub.status.idle": "2023-12-20T06:56:11.575592Z",
     "shell.execute_reply": "2023-12-20T06:56:11.574174Z"
    },
    "papermill": {
     "duration": 0.099978,
     "end_time": "2023-12-20T06:56:11.578847",
     "exception": false,
     "start_time": "2023-12-20T06:56:11.478869",
     "status": "completed"
    },
    "tags": []
   },
   "outputs": [],
   "source": [
    "df['Age']=df['Age'].map({'0-17':'Child', '55+':'Old', '26-35':'Adult', '46-50':'Adult', '51-55':\"Old\", '36-45':\"Adult\", '18-25':\"Teenage\"})"
   ]
  },
  {
   "cell_type": "code",
   "execution_count": 14,
   "id": "3ee116c5",
   "metadata": {
    "execution": {
     "iopub.execute_input": "2023-12-20T06:56:11.616287Z",
     "iopub.status.busy": "2023-12-20T06:56:11.615895Z",
     "iopub.status.idle": "2023-12-20T06:56:11.632742Z",
     "shell.execute_reply": "2023-12-20T06:56:11.631755Z"
    },
    "papermill": {
     "duration": 0.038526,
     "end_time": "2023-12-20T06:56:11.635220",
     "exception": false,
     "start_time": "2023-12-20T06:56:11.596694",
     "status": "completed"
    },
    "tags": []
   },
   "outputs": [
    {
     "data": {
      "text/html": [
       "<div>\n",
       "<style scoped>\n",
       "    .dataframe tbody tr th:only-of-type {\n",
       "        vertical-align: middle;\n",
       "    }\n",
       "\n",
       "    .dataframe tbody tr th {\n",
       "        vertical-align: top;\n",
       "    }\n",
       "\n",
       "    .dataframe thead th {\n",
       "        text-align: right;\n",
       "    }\n",
       "</style>\n",
       "<table border=\"1\" class=\"dataframe\">\n",
       "  <thead>\n",
       "    <tr style=\"text-align: right;\">\n",
       "      <th></th>\n",
       "      <th>Gender</th>\n",
       "      <th>Age</th>\n",
       "      <th>Occupation</th>\n",
       "      <th>City</th>\n",
       "      <th>Years_in_City</th>\n",
       "      <th>Marital_Status</th>\n",
       "      <th>Product_Category_1</th>\n",
       "      <th>Product_Category_2</th>\n",
       "      <th>Purchase</th>\n",
       "    </tr>\n",
       "  </thead>\n",
       "  <tbody>\n",
       "    <tr>\n",
       "      <th>0</th>\n",
       "      <td>F</td>\n",
       "      <td>Child</td>\n",
       "      <td>10</td>\n",
       "      <td>A</td>\n",
       "      <td>2</td>\n",
       "      <td>0</td>\n",
       "      <td>3</td>\n",
       "      <td>NaN</td>\n",
       "      <td>8370</td>\n",
       "    </tr>\n",
       "    <tr>\n",
       "      <th>1</th>\n",
       "      <td>F</td>\n",
       "      <td>Child</td>\n",
       "      <td>10</td>\n",
       "      <td>A</td>\n",
       "      <td>2</td>\n",
       "      <td>0</td>\n",
       "      <td>1</td>\n",
       "      <td>6.0</td>\n",
       "      <td>15200</td>\n",
       "    </tr>\n",
       "    <tr>\n",
       "      <th>2</th>\n",
       "      <td>F</td>\n",
       "      <td>Child</td>\n",
       "      <td>10</td>\n",
       "      <td>A</td>\n",
       "      <td>2</td>\n",
       "      <td>0</td>\n",
       "      <td>12</td>\n",
       "      <td>NaN</td>\n",
       "      <td>1422</td>\n",
       "    </tr>\n",
       "    <tr>\n",
       "      <th>3</th>\n",
       "      <td>F</td>\n",
       "      <td>Child</td>\n",
       "      <td>10</td>\n",
       "      <td>A</td>\n",
       "      <td>2</td>\n",
       "      <td>0</td>\n",
       "      <td>12</td>\n",
       "      <td>14.0</td>\n",
       "      <td>1057</td>\n",
       "    </tr>\n",
       "    <tr>\n",
       "      <th>4</th>\n",
       "      <td>M</td>\n",
       "      <td>Old</td>\n",
       "      <td>16</td>\n",
       "      <td>C</td>\n",
       "      <td>4+</td>\n",
       "      <td>0</td>\n",
       "      <td>8</td>\n",
       "      <td>NaN</td>\n",
       "      <td>7969</td>\n",
       "    </tr>\n",
       "    <tr>\n",
       "      <th>5</th>\n",
       "      <td>M</td>\n",
       "      <td>Adult</td>\n",
       "      <td>15</td>\n",
       "      <td>A</td>\n",
       "      <td>3</td>\n",
       "      <td>0</td>\n",
       "      <td>1</td>\n",
       "      <td>2.0</td>\n",
       "      <td>15227</td>\n",
       "    </tr>\n",
       "    <tr>\n",
       "      <th>6</th>\n",
       "      <td>M</td>\n",
       "      <td>Adult</td>\n",
       "      <td>7</td>\n",
       "      <td>B</td>\n",
       "      <td>2</td>\n",
       "      <td>1</td>\n",
       "      <td>1</td>\n",
       "      <td>8.0</td>\n",
       "      <td>19215</td>\n",
       "    </tr>\n",
       "    <tr>\n",
       "      <th>7</th>\n",
       "      <td>M</td>\n",
       "      <td>Adult</td>\n",
       "      <td>7</td>\n",
       "      <td>B</td>\n",
       "      <td>2</td>\n",
       "      <td>1</td>\n",
       "      <td>1</td>\n",
       "      <td>15.0</td>\n",
       "      <td>15854</td>\n",
       "    </tr>\n",
       "    <tr>\n",
       "      <th>8</th>\n",
       "      <td>M</td>\n",
       "      <td>Adult</td>\n",
       "      <td>7</td>\n",
       "      <td>B</td>\n",
       "      <td>2</td>\n",
       "      <td>1</td>\n",
       "      <td>1</td>\n",
       "      <td>16.0</td>\n",
       "      <td>15686</td>\n",
       "    </tr>\n",
       "    <tr>\n",
       "      <th>9</th>\n",
       "      <td>M</td>\n",
       "      <td>Adult</td>\n",
       "      <td>20</td>\n",
       "      <td>A</td>\n",
       "      <td>1</td>\n",
       "      <td>1</td>\n",
       "      <td>8</td>\n",
       "      <td>NaN</td>\n",
       "      <td>7871</td>\n",
       "    </tr>\n",
       "  </tbody>\n",
       "</table>\n",
       "</div>"
      ],
      "text/plain": [
       "  Gender    Age  Occupation City Years_in_City  Marital_Status  \\\n",
       "0      F  Child          10    A             2               0   \n",
       "1      F  Child          10    A             2               0   \n",
       "2      F  Child          10    A             2               0   \n",
       "3      F  Child          10    A             2               0   \n",
       "4      M    Old          16    C            4+               0   \n",
       "5      M  Adult          15    A             3               0   \n",
       "6      M  Adult           7    B             2               1   \n",
       "7      M  Adult           7    B             2               1   \n",
       "8      M  Adult           7    B             2               1   \n",
       "9      M  Adult          20    A             1               1   \n",
       "\n",
       "   Product_Category_1  Product_Category_2  Purchase  \n",
       "0                   3                 NaN      8370  \n",
       "1                   1                 6.0     15200  \n",
       "2                  12                 NaN      1422  \n",
       "3                  12                14.0      1057  \n",
       "4                   8                 NaN      7969  \n",
       "5                   1                 2.0     15227  \n",
       "6                   1                 8.0     19215  \n",
       "7                   1                15.0     15854  \n",
       "8                   1                16.0     15686  \n",
       "9                   8                 NaN      7871  "
      ]
     },
     "execution_count": 14,
     "metadata": {},
     "output_type": "execute_result"
    }
   ],
   "source": [
    "df.head(10)"
   ]
  },
  {
   "cell_type": "markdown",
   "id": "4026c17d",
   "metadata": {
    "papermill": {
     "duration": 0.018476,
     "end_time": "2023-12-20T06:56:11.671879",
     "exception": false,
     "start_time": "2023-12-20T06:56:11.653403",
     "status": "completed"
    },
    "tags": []
   },
   "source": [
    "Converting categorical data into integer data using map (\"Gender\")"
   ]
  },
  {
   "cell_type": "code",
   "execution_count": 15,
   "id": "32945e8a",
   "metadata": {
    "execution": {
     "iopub.execute_input": "2023-12-20T06:56:11.711194Z",
     "iopub.status.busy": "2023-12-20T06:56:11.710564Z",
     "iopub.status.idle": "2023-12-20T06:56:11.749636Z",
     "shell.execute_reply": "2023-12-20T06:56:11.748568Z"
    },
    "papermill": {
     "duration": 0.061358,
     "end_time": "2023-12-20T06:56:11.752132",
     "exception": false,
     "start_time": "2023-12-20T06:56:11.690774",
     "status": "completed"
    },
    "tags": []
   },
   "outputs": [],
   "source": [
    "df['Gender']=df['Gender'].map({'M':0,'F':1})"
   ]
  },
  {
   "cell_type": "code",
   "execution_count": 16,
   "id": "660d8261",
   "metadata": {
    "execution": {
     "iopub.execute_input": "2023-12-20T06:56:11.790983Z",
     "iopub.status.busy": "2023-12-20T06:56:11.790586Z",
     "iopub.status.idle": "2023-12-20T06:56:11.808134Z",
     "shell.execute_reply": "2023-12-20T06:56:11.806886Z"
    },
    "papermill": {
     "duration": 0.040231,
     "end_time": "2023-12-20T06:56:11.810555",
     "exception": false,
     "start_time": "2023-12-20T06:56:11.770324",
     "status": "completed"
    },
    "tags": []
   },
   "outputs": [
    {
     "data": {
      "text/html": [
       "<div>\n",
       "<style scoped>\n",
       "    .dataframe tbody tr th:only-of-type {\n",
       "        vertical-align: middle;\n",
       "    }\n",
       "\n",
       "    .dataframe tbody tr th {\n",
       "        vertical-align: top;\n",
       "    }\n",
       "\n",
       "    .dataframe thead th {\n",
       "        text-align: right;\n",
       "    }\n",
       "</style>\n",
       "<table border=\"1\" class=\"dataframe\">\n",
       "  <thead>\n",
       "    <tr style=\"text-align: right;\">\n",
       "      <th></th>\n",
       "      <th>Gender</th>\n",
       "      <th>Age</th>\n",
       "      <th>Occupation</th>\n",
       "      <th>City</th>\n",
       "      <th>Years_in_City</th>\n",
       "      <th>Marital_Status</th>\n",
       "      <th>Product_Category_1</th>\n",
       "      <th>Product_Category_2</th>\n",
       "      <th>Purchase</th>\n",
       "    </tr>\n",
       "  </thead>\n",
       "  <tbody>\n",
       "    <tr>\n",
       "      <th>0</th>\n",
       "      <td>1</td>\n",
       "      <td>Child</td>\n",
       "      <td>10</td>\n",
       "      <td>A</td>\n",
       "      <td>2</td>\n",
       "      <td>0</td>\n",
       "      <td>3</td>\n",
       "      <td>NaN</td>\n",
       "      <td>8370</td>\n",
       "    </tr>\n",
       "    <tr>\n",
       "      <th>1</th>\n",
       "      <td>1</td>\n",
       "      <td>Child</td>\n",
       "      <td>10</td>\n",
       "      <td>A</td>\n",
       "      <td>2</td>\n",
       "      <td>0</td>\n",
       "      <td>1</td>\n",
       "      <td>6.0</td>\n",
       "      <td>15200</td>\n",
       "    </tr>\n",
       "    <tr>\n",
       "      <th>2</th>\n",
       "      <td>1</td>\n",
       "      <td>Child</td>\n",
       "      <td>10</td>\n",
       "      <td>A</td>\n",
       "      <td>2</td>\n",
       "      <td>0</td>\n",
       "      <td>12</td>\n",
       "      <td>NaN</td>\n",
       "      <td>1422</td>\n",
       "    </tr>\n",
       "    <tr>\n",
       "      <th>3</th>\n",
       "      <td>1</td>\n",
       "      <td>Child</td>\n",
       "      <td>10</td>\n",
       "      <td>A</td>\n",
       "      <td>2</td>\n",
       "      <td>0</td>\n",
       "      <td>12</td>\n",
       "      <td>14.0</td>\n",
       "      <td>1057</td>\n",
       "    </tr>\n",
       "    <tr>\n",
       "      <th>4</th>\n",
       "      <td>0</td>\n",
       "      <td>Old</td>\n",
       "      <td>16</td>\n",
       "      <td>C</td>\n",
       "      <td>4+</td>\n",
       "      <td>0</td>\n",
       "      <td>8</td>\n",
       "      <td>NaN</td>\n",
       "      <td>7969</td>\n",
       "    </tr>\n",
       "    <tr>\n",
       "      <th>5</th>\n",
       "      <td>0</td>\n",
       "      <td>Adult</td>\n",
       "      <td>15</td>\n",
       "      <td>A</td>\n",
       "      <td>3</td>\n",
       "      <td>0</td>\n",
       "      <td>1</td>\n",
       "      <td>2.0</td>\n",
       "      <td>15227</td>\n",
       "    </tr>\n",
       "    <tr>\n",
       "      <th>6</th>\n",
       "      <td>0</td>\n",
       "      <td>Adult</td>\n",
       "      <td>7</td>\n",
       "      <td>B</td>\n",
       "      <td>2</td>\n",
       "      <td>1</td>\n",
       "      <td>1</td>\n",
       "      <td>8.0</td>\n",
       "      <td>19215</td>\n",
       "    </tr>\n",
       "    <tr>\n",
       "      <th>7</th>\n",
       "      <td>0</td>\n",
       "      <td>Adult</td>\n",
       "      <td>7</td>\n",
       "      <td>B</td>\n",
       "      <td>2</td>\n",
       "      <td>1</td>\n",
       "      <td>1</td>\n",
       "      <td>15.0</td>\n",
       "      <td>15854</td>\n",
       "    </tr>\n",
       "    <tr>\n",
       "      <th>8</th>\n",
       "      <td>0</td>\n",
       "      <td>Adult</td>\n",
       "      <td>7</td>\n",
       "      <td>B</td>\n",
       "      <td>2</td>\n",
       "      <td>1</td>\n",
       "      <td>1</td>\n",
       "      <td>16.0</td>\n",
       "      <td>15686</td>\n",
       "    </tr>\n",
       "    <tr>\n",
       "      <th>9</th>\n",
       "      <td>0</td>\n",
       "      <td>Adult</td>\n",
       "      <td>20</td>\n",
       "      <td>A</td>\n",
       "      <td>1</td>\n",
       "      <td>1</td>\n",
       "      <td>8</td>\n",
       "      <td>NaN</td>\n",
       "      <td>7871</td>\n",
       "    </tr>\n",
       "  </tbody>\n",
       "</table>\n",
       "</div>"
      ],
      "text/plain": [
       "   Gender    Age  Occupation City Years_in_City  Marital_Status  \\\n",
       "0       1  Child          10    A             2               0   \n",
       "1       1  Child          10    A             2               0   \n",
       "2       1  Child          10    A             2               0   \n",
       "3       1  Child          10    A             2               0   \n",
       "4       0    Old          16    C            4+               0   \n",
       "5       0  Adult          15    A             3               0   \n",
       "6       0  Adult           7    B             2               1   \n",
       "7       0  Adult           7    B             2               1   \n",
       "8       0  Adult           7    B             2               1   \n",
       "9       0  Adult          20    A             1               1   \n",
       "\n",
       "   Product_Category_1  Product_Category_2  Purchase  \n",
       "0                   3                 NaN      8370  \n",
       "1                   1                 6.0     15200  \n",
       "2                  12                 NaN      1422  \n",
       "3                  12                14.0      1057  \n",
       "4                   8                 NaN      7969  \n",
       "5                   1                 2.0     15227  \n",
       "6                   1                 8.0     19215  \n",
       "7                   1                15.0     15854  \n",
       "8                   1                16.0     15686  \n",
       "9                   8                 NaN      7871  "
      ]
     },
     "execution_count": 16,
     "metadata": {},
     "output_type": "execute_result"
    }
   ],
   "source": [
    "df.head(10)"
   ]
  },
  {
   "cell_type": "markdown",
   "id": "fb5ed432",
   "metadata": {
    "papermill": {
     "duration": 0.018311,
     "end_time": "2023-12-20T06:56:11.848252",
     "exception": false,
     "start_time": "2023-12-20T06:56:11.829941",
     "status": "completed"
    },
    "tags": []
   },
   "source": [
    "Filling nan vlaues in product_category_2"
   ]
  },
  {
   "cell_type": "code",
   "execution_count": 17,
   "id": "6b2ed250",
   "metadata": {
    "execution": {
     "iopub.execute_input": "2023-12-20T06:56:11.887346Z",
     "iopub.status.busy": "2023-12-20T06:56:11.886912Z",
     "iopub.status.idle": "2023-12-20T06:56:11.905424Z",
     "shell.execute_reply": "2023-12-20T06:56:11.904641Z"
    },
    "papermill": {
     "duration": 0.040826,
     "end_time": "2023-12-20T06:56:11.907601",
     "exception": false,
     "start_time": "2023-12-20T06:56:11.866775",
     "status": "completed"
    },
    "tags": []
   },
   "outputs": [
    {
     "data": {
      "text/plain": [
       "Product_Category_2\n",
       "8.0     64088\n",
       "14.0    55108\n",
       "2.0     49217\n",
       "16.0    43255\n",
       "15.0    37855\n",
       "5.0     26235\n",
       "4.0     25677\n",
       "6.0     16466\n",
       "11.0    14134\n",
       "17.0    13320\n",
       "13.0    10531\n",
       "9.0      5693\n",
       "12.0     5528\n",
       "10.0     3043\n",
       "3.0      2884\n",
       "18.0     2770\n",
       "7.0       626\n",
       "Name: count, dtype: int64"
      ]
     },
     "execution_count": 17,
     "metadata": {},
     "output_type": "execute_result"
    }
   ],
   "source": [
    "df['Product_Category_2'].value_counts()"
   ]
  },
  {
   "cell_type": "code",
   "execution_count": 18,
   "id": "684399c9",
   "metadata": {
    "execution": {
     "iopub.execute_input": "2023-12-20T06:56:11.947485Z",
     "iopub.status.busy": "2023-12-20T06:56:11.946352Z",
     "iopub.status.idle": "2023-12-20T06:56:12.037210Z",
     "shell.execute_reply": "2023-12-20T06:56:12.036067Z"
    },
    "papermill": {
     "duration": 0.113402,
     "end_time": "2023-12-20T06:56:12.039783",
     "exception": false,
     "start_time": "2023-12-20T06:56:11.926381",
     "status": "completed"
    },
    "tags": []
   },
   "outputs": [
    {
     "data": {
      "text/plain": [
       "Age\n",
       "Adult      8.0\n",
       "Child      4.0\n",
       "Old        8.0\n",
       "Teenage    8.0\n",
       "Name: Product_Category_2, dtype: float64"
      ]
     },
     "execution_count": 18,
     "metadata": {},
     "output_type": "execute_result"
    }
   ],
   "source": [
    "s=df.groupby('Age')['Product_Category_2'].agg(pd.Series.mode)\n",
    "s"
   ]
  },
  {
   "cell_type": "code",
   "execution_count": 19,
   "id": "e794b0b7",
   "metadata": {
    "execution": {
     "iopub.execute_input": "2023-12-20T06:56:12.079528Z",
     "iopub.status.busy": "2023-12-20T06:56:12.079069Z",
     "iopub.status.idle": "2023-12-20T06:56:12.455940Z",
     "shell.execute_reply": "2023-12-20T06:56:12.454647Z"
    },
    "papermill": {
     "duration": 0.400322,
     "end_time": "2023-12-20T06:56:12.458843",
     "exception": false,
     "start_time": "2023-12-20T06:56:12.058521",
     "status": "completed"
    },
    "tags": []
   },
   "outputs": [],
   "source": [
    "for key in s.index:\n",
    "    df.loc[(df['Age']==key) & (df['Product_Category_2'].isnull()), 'Product_Category_2']=s[key]"
   ]
  },
  {
   "cell_type": "code",
   "execution_count": 20,
   "id": "62bb5dfb",
   "metadata": {
    "execution": {
     "iopub.execute_input": "2023-12-20T06:56:12.498868Z",
     "iopub.status.busy": "2023-12-20T06:56:12.498082Z",
     "iopub.status.idle": "2023-12-20T06:56:12.515583Z",
     "shell.execute_reply": "2023-12-20T06:56:12.514460Z"
    },
    "papermill": {
     "duration": 0.040294,
     "end_time": "2023-12-20T06:56:12.518076",
     "exception": false,
     "start_time": "2023-12-20T06:56:12.477782",
     "status": "completed"
    },
    "tags": []
   },
   "outputs": [
    {
     "data": {
      "text/html": [
       "<div>\n",
       "<style scoped>\n",
       "    .dataframe tbody tr th:only-of-type {\n",
       "        vertical-align: middle;\n",
       "    }\n",
       "\n",
       "    .dataframe tbody tr th {\n",
       "        vertical-align: top;\n",
       "    }\n",
       "\n",
       "    .dataframe thead th {\n",
       "        text-align: right;\n",
       "    }\n",
       "</style>\n",
       "<table border=\"1\" class=\"dataframe\">\n",
       "  <thead>\n",
       "    <tr style=\"text-align: right;\">\n",
       "      <th></th>\n",
       "      <th>Gender</th>\n",
       "      <th>Age</th>\n",
       "      <th>Occupation</th>\n",
       "      <th>City</th>\n",
       "      <th>Years_in_City</th>\n",
       "      <th>Marital_Status</th>\n",
       "      <th>Product_Category_1</th>\n",
       "      <th>Product_Category_2</th>\n",
       "      <th>Purchase</th>\n",
       "    </tr>\n",
       "  </thead>\n",
       "  <tbody>\n",
       "    <tr>\n",
       "      <th>0</th>\n",
       "      <td>1</td>\n",
       "      <td>Child</td>\n",
       "      <td>10</td>\n",
       "      <td>A</td>\n",
       "      <td>2</td>\n",
       "      <td>0</td>\n",
       "      <td>3</td>\n",
       "      <td>4.0</td>\n",
       "      <td>8370</td>\n",
       "    </tr>\n",
       "    <tr>\n",
       "      <th>1</th>\n",
       "      <td>1</td>\n",
       "      <td>Child</td>\n",
       "      <td>10</td>\n",
       "      <td>A</td>\n",
       "      <td>2</td>\n",
       "      <td>0</td>\n",
       "      <td>1</td>\n",
       "      <td>6.0</td>\n",
       "      <td>15200</td>\n",
       "    </tr>\n",
       "    <tr>\n",
       "      <th>2</th>\n",
       "      <td>1</td>\n",
       "      <td>Child</td>\n",
       "      <td>10</td>\n",
       "      <td>A</td>\n",
       "      <td>2</td>\n",
       "      <td>0</td>\n",
       "      <td>12</td>\n",
       "      <td>4.0</td>\n",
       "      <td>1422</td>\n",
       "    </tr>\n",
       "    <tr>\n",
       "      <th>3</th>\n",
       "      <td>1</td>\n",
       "      <td>Child</td>\n",
       "      <td>10</td>\n",
       "      <td>A</td>\n",
       "      <td>2</td>\n",
       "      <td>0</td>\n",
       "      <td>12</td>\n",
       "      <td>14.0</td>\n",
       "      <td>1057</td>\n",
       "    </tr>\n",
       "    <tr>\n",
       "      <th>4</th>\n",
       "      <td>0</td>\n",
       "      <td>Old</td>\n",
       "      <td>16</td>\n",
       "      <td>C</td>\n",
       "      <td>4+</td>\n",
       "      <td>0</td>\n",
       "      <td>8</td>\n",
       "      <td>8.0</td>\n",
       "      <td>7969</td>\n",
       "    </tr>\n",
       "    <tr>\n",
       "      <th>5</th>\n",
       "      <td>0</td>\n",
       "      <td>Adult</td>\n",
       "      <td>15</td>\n",
       "      <td>A</td>\n",
       "      <td>3</td>\n",
       "      <td>0</td>\n",
       "      <td>1</td>\n",
       "      <td>2.0</td>\n",
       "      <td>15227</td>\n",
       "    </tr>\n",
       "    <tr>\n",
       "      <th>6</th>\n",
       "      <td>0</td>\n",
       "      <td>Adult</td>\n",
       "      <td>7</td>\n",
       "      <td>B</td>\n",
       "      <td>2</td>\n",
       "      <td>1</td>\n",
       "      <td>1</td>\n",
       "      <td>8.0</td>\n",
       "      <td>19215</td>\n",
       "    </tr>\n",
       "    <tr>\n",
       "      <th>7</th>\n",
       "      <td>0</td>\n",
       "      <td>Adult</td>\n",
       "      <td>7</td>\n",
       "      <td>B</td>\n",
       "      <td>2</td>\n",
       "      <td>1</td>\n",
       "      <td>1</td>\n",
       "      <td>15.0</td>\n",
       "      <td>15854</td>\n",
       "    </tr>\n",
       "    <tr>\n",
       "      <th>8</th>\n",
       "      <td>0</td>\n",
       "      <td>Adult</td>\n",
       "      <td>7</td>\n",
       "      <td>B</td>\n",
       "      <td>2</td>\n",
       "      <td>1</td>\n",
       "      <td>1</td>\n",
       "      <td>16.0</td>\n",
       "      <td>15686</td>\n",
       "    </tr>\n",
       "    <tr>\n",
       "      <th>9</th>\n",
       "      <td>0</td>\n",
       "      <td>Adult</td>\n",
       "      <td>20</td>\n",
       "      <td>A</td>\n",
       "      <td>1</td>\n",
       "      <td>1</td>\n",
       "      <td>8</td>\n",
       "      <td>8.0</td>\n",
       "      <td>7871</td>\n",
       "    </tr>\n",
       "  </tbody>\n",
       "</table>\n",
       "</div>"
      ],
      "text/plain": [
       "   Gender    Age  Occupation City Years_in_City  Marital_Status  \\\n",
       "0       1  Child          10    A             2               0   \n",
       "1       1  Child          10    A             2               0   \n",
       "2       1  Child          10    A             2               0   \n",
       "3       1  Child          10    A             2               0   \n",
       "4       0    Old          16    C            4+               0   \n",
       "5       0  Adult          15    A             3               0   \n",
       "6       0  Adult           7    B             2               1   \n",
       "7       0  Adult           7    B             2               1   \n",
       "8       0  Adult           7    B             2               1   \n",
       "9       0  Adult          20    A             1               1   \n",
       "\n",
       "   Product_Category_1  Product_Category_2  Purchase  \n",
       "0                   3                 4.0      8370  \n",
       "1                   1                 6.0     15200  \n",
       "2                  12                 4.0      1422  \n",
       "3                  12                14.0      1057  \n",
       "4                   8                 8.0      7969  \n",
       "5                   1                 2.0     15227  \n",
       "6                   1                 8.0     19215  \n",
       "7                   1                15.0     15854  \n",
       "8                   1                16.0     15686  \n",
       "9                   8                 8.0      7871  "
      ]
     },
     "execution_count": 20,
     "metadata": {},
     "output_type": "execute_result"
    }
   ],
   "source": [
    "df.head(10)"
   ]
  },
  {
   "cell_type": "code",
   "execution_count": 21,
   "id": "f619e192",
   "metadata": {
    "execution": {
     "iopub.execute_input": "2023-12-20T06:56:12.558462Z",
     "iopub.status.busy": "2023-12-20T06:56:12.558041Z",
     "iopub.status.idle": "2023-12-20T06:56:12.566006Z",
     "shell.execute_reply": "2023-12-20T06:56:12.565131Z"
    },
    "papermill": {
     "duration": 0.03112,
     "end_time": "2023-12-20T06:56:12.568484",
     "exception": false,
     "start_time": "2023-12-20T06:56:12.537364",
     "status": "completed"
    },
    "tags": []
   },
   "outputs": [
    {
     "data": {
      "text/plain": [
       "0"
      ]
     },
     "execution_count": 21,
     "metadata": {},
     "output_type": "execute_result"
    }
   ],
   "source": [
    "df['Product_Category_2'].isnull().sum()"
   ]
  },
  {
   "cell_type": "markdown",
   "id": "813701f7",
   "metadata": {
    "papermill": {
     "duration": 0.019142,
     "end_time": "2023-12-20T06:56:12.606886",
     "exception": false,
     "start_time": "2023-12-20T06:56:12.587744",
     "status": "completed"
    },
    "tags": []
   },
   "source": [
    "Removing symbol '+' from column \"years in city\" "
   ]
  },
  {
   "cell_type": "code",
   "execution_count": 22,
   "id": "ff7fee0a",
   "metadata": {
    "execution": {
     "iopub.execute_input": "2023-12-20T06:56:12.648129Z",
     "iopub.status.busy": "2023-12-20T06:56:12.647694Z",
     "iopub.status.idle": "2023-12-20T06:56:12.698042Z",
     "shell.execute_reply": "2023-12-20T06:56:12.696809Z"
    },
    "papermill": {
     "duration": 0.074147,
     "end_time": "2023-12-20T06:56:12.700989",
     "exception": false,
     "start_time": "2023-12-20T06:56:12.626842",
     "status": "completed"
    },
    "tags": []
   },
   "outputs": [
    {
     "data": {
      "text/plain": [
       "array(['2', '4+', '3', '1', '0'], dtype=object)"
      ]
     },
     "execution_count": 22,
     "metadata": {},
     "output_type": "execute_result"
    }
   ],
   "source": [
    "df['Years_in_City'].unique()"
   ]
  },
  {
   "cell_type": "code",
   "execution_count": 23,
   "id": "883b8854",
   "metadata": {
    "execution": {
     "iopub.execute_input": "2023-12-20T06:56:12.742236Z",
     "iopub.status.busy": "2023-12-20T06:56:12.741817Z",
     "iopub.status.idle": "2023-12-20T06:56:13.145144Z",
     "shell.execute_reply": "2023-12-20T06:56:13.143867Z"
    },
    "papermill": {
     "duration": 0.427093,
     "end_time": "2023-12-20T06:56:13.147981",
     "exception": false,
     "start_time": "2023-12-20T06:56:12.720888",
     "status": "completed"
    },
    "tags": []
   },
   "outputs": [],
   "source": [
    "df['Years_in_City'] = df['Years_in_City'].astype(str).str.replace('+', '')\n",
    "df['Years_in_City'] = df['Years_in_City'].astype(int)"
   ]
  },
  {
   "cell_type": "code",
   "execution_count": 24,
   "id": "f311b57d",
   "metadata": {
    "execution": {
     "iopub.execute_input": "2023-12-20T06:56:13.189779Z",
     "iopub.status.busy": "2023-12-20T06:56:13.189347Z",
     "iopub.status.idle": "2023-12-20T06:56:13.207854Z",
     "shell.execute_reply": "2023-12-20T06:56:13.206694Z"
    },
    "papermill": {
     "duration": 0.042451,
     "end_time": "2023-12-20T06:56:13.210497",
     "exception": false,
     "start_time": "2023-12-20T06:56:13.168046",
     "status": "completed"
    },
    "tags": []
   },
   "outputs": [
    {
     "data": {
      "text/html": [
       "<div>\n",
       "<style scoped>\n",
       "    .dataframe tbody tr th:only-of-type {\n",
       "        vertical-align: middle;\n",
       "    }\n",
       "\n",
       "    .dataframe tbody tr th {\n",
       "        vertical-align: top;\n",
       "    }\n",
       "\n",
       "    .dataframe thead th {\n",
       "        text-align: right;\n",
       "    }\n",
       "</style>\n",
       "<table border=\"1\" class=\"dataframe\">\n",
       "  <thead>\n",
       "    <tr style=\"text-align: right;\">\n",
       "      <th></th>\n",
       "      <th>Gender</th>\n",
       "      <th>Age</th>\n",
       "      <th>Occupation</th>\n",
       "      <th>City</th>\n",
       "      <th>Years_in_City</th>\n",
       "      <th>Marital_Status</th>\n",
       "      <th>Product_Category_1</th>\n",
       "      <th>Product_Category_2</th>\n",
       "      <th>Purchase</th>\n",
       "    </tr>\n",
       "  </thead>\n",
       "  <tbody>\n",
       "    <tr>\n",
       "      <th>0</th>\n",
       "      <td>1</td>\n",
       "      <td>Child</td>\n",
       "      <td>10</td>\n",
       "      <td>A</td>\n",
       "      <td>2</td>\n",
       "      <td>0</td>\n",
       "      <td>3</td>\n",
       "      <td>4.0</td>\n",
       "      <td>8370</td>\n",
       "    </tr>\n",
       "    <tr>\n",
       "      <th>1</th>\n",
       "      <td>1</td>\n",
       "      <td>Child</td>\n",
       "      <td>10</td>\n",
       "      <td>A</td>\n",
       "      <td>2</td>\n",
       "      <td>0</td>\n",
       "      <td>1</td>\n",
       "      <td>6.0</td>\n",
       "      <td>15200</td>\n",
       "    </tr>\n",
       "    <tr>\n",
       "      <th>2</th>\n",
       "      <td>1</td>\n",
       "      <td>Child</td>\n",
       "      <td>10</td>\n",
       "      <td>A</td>\n",
       "      <td>2</td>\n",
       "      <td>0</td>\n",
       "      <td>12</td>\n",
       "      <td>4.0</td>\n",
       "      <td>1422</td>\n",
       "    </tr>\n",
       "    <tr>\n",
       "      <th>3</th>\n",
       "      <td>1</td>\n",
       "      <td>Child</td>\n",
       "      <td>10</td>\n",
       "      <td>A</td>\n",
       "      <td>2</td>\n",
       "      <td>0</td>\n",
       "      <td>12</td>\n",
       "      <td>14.0</td>\n",
       "      <td>1057</td>\n",
       "    </tr>\n",
       "    <tr>\n",
       "      <th>4</th>\n",
       "      <td>0</td>\n",
       "      <td>Old</td>\n",
       "      <td>16</td>\n",
       "      <td>C</td>\n",
       "      <td>4</td>\n",
       "      <td>0</td>\n",
       "      <td>8</td>\n",
       "      <td>8.0</td>\n",
       "      <td>7969</td>\n",
       "    </tr>\n",
       "    <tr>\n",
       "      <th>5</th>\n",
       "      <td>0</td>\n",
       "      <td>Adult</td>\n",
       "      <td>15</td>\n",
       "      <td>A</td>\n",
       "      <td>3</td>\n",
       "      <td>0</td>\n",
       "      <td>1</td>\n",
       "      <td>2.0</td>\n",
       "      <td>15227</td>\n",
       "    </tr>\n",
       "    <tr>\n",
       "      <th>6</th>\n",
       "      <td>0</td>\n",
       "      <td>Adult</td>\n",
       "      <td>7</td>\n",
       "      <td>B</td>\n",
       "      <td>2</td>\n",
       "      <td>1</td>\n",
       "      <td>1</td>\n",
       "      <td>8.0</td>\n",
       "      <td>19215</td>\n",
       "    </tr>\n",
       "    <tr>\n",
       "      <th>7</th>\n",
       "      <td>0</td>\n",
       "      <td>Adult</td>\n",
       "      <td>7</td>\n",
       "      <td>B</td>\n",
       "      <td>2</td>\n",
       "      <td>1</td>\n",
       "      <td>1</td>\n",
       "      <td>15.0</td>\n",
       "      <td>15854</td>\n",
       "    </tr>\n",
       "    <tr>\n",
       "      <th>8</th>\n",
       "      <td>0</td>\n",
       "      <td>Adult</td>\n",
       "      <td>7</td>\n",
       "      <td>B</td>\n",
       "      <td>2</td>\n",
       "      <td>1</td>\n",
       "      <td>1</td>\n",
       "      <td>16.0</td>\n",
       "      <td>15686</td>\n",
       "    </tr>\n",
       "    <tr>\n",
       "      <th>9</th>\n",
       "      <td>0</td>\n",
       "      <td>Adult</td>\n",
       "      <td>20</td>\n",
       "      <td>A</td>\n",
       "      <td>1</td>\n",
       "      <td>1</td>\n",
       "      <td>8</td>\n",
       "      <td>8.0</td>\n",
       "      <td>7871</td>\n",
       "    </tr>\n",
       "  </tbody>\n",
       "</table>\n",
       "</div>"
      ],
      "text/plain": [
       "   Gender    Age  Occupation City  Years_in_City  Marital_Status  \\\n",
       "0       1  Child          10    A              2               0   \n",
       "1       1  Child          10    A              2               0   \n",
       "2       1  Child          10    A              2               0   \n",
       "3       1  Child          10    A              2               0   \n",
       "4       0    Old          16    C              4               0   \n",
       "5       0  Adult          15    A              3               0   \n",
       "6       0  Adult           7    B              2               1   \n",
       "7       0  Adult           7    B              2               1   \n",
       "8       0  Adult           7    B              2               1   \n",
       "9       0  Adult          20    A              1               1   \n",
       "\n",
       "   Product_Category_1  Product_Category_2  Purchase  \n",
       "0                   3                 4.0      8370  \n",
       "1                   1                 6.0     15200  \n",
       "2                  12                 4.0      1422  \n",
       "3                  12                14.0      1057  \n",
       "4                   8                 8.0      7969  \n",
       "5                   1                 2.0     15227  \n",
       "6                   1                 8.0     19215  \n",
       "7                   1                15.0     15854  \n",
       "8                   1                16.0     15686  \n",
       "9                   8                 8.0      7871  "
      ]
     },
     "execution_count": 24,
     "metadata": {},
     "output_type": "execute_result"
    }
   ],
   "source": [
    "df.head(10)"
   ]
  },
  {
   "cell_type": "markdown",
   "id": "61b7d9a7",
   "metadata": {
    "papermill": {
     "duration": 0.019632,
     "end_time": "2023-12-20T06:56:13.250138",
     "exception": false,
     "start_time": "2023-12-20T06:56:13.230506",
     "status": "completed"
    },
    "tags": []
   },
   "source": [
    "Converting value to integer type in column \"Product_Category_2\""
   ]
  },
  {
   "cell_type": "code",
   "execution_count": 25,
   "id": "9d250559",
   "metadata": {
    "execution": {
     "iopub.execute_input": "2023-12-20T06:56:13.292230Z",
     "iopub.status.busy": "2023-12-20T06:56:13.291786Z",
     "iopub.status.idle": "2023-12-20T06:56:13.310599Z",
     "shell.execute_reply": "2023-12-20T06:56:13.309287Z"
    },
    "papermill": {
     "duration": 0.042768,
     "end_time": "2023-12-20T06:56:13.313280",
     "exception": false,
     "start_time": "2023-12-20T06:56:13.270512",
     "status": "completed"
    },
    "tags": []
   },
   "outputs": [
    {
     "data": {
      "text/html": [
       "<div>\n",
       "<style scoped>\n",
       "    .dataframe tbody tr th:only-of-type {\n",
       "        vertical-align: middle;\n",
       "    }\n",
       "\n",
       "    .dataframe tbody tr th {\n",
       "        vertical-align: top;\n",
       "    }\n",
       "\n",
       "    .dataframe thead th {\n",
       "        text-align: right;\n",
       "    }\n",
       "</style>\n",
       "<table border=\"1\" class=\"dataframe\">\n",
       "  <thead>\n",
       "    <tr style=\"text-align: right;\">\n",
       "      <th></th>\n",
       "      <th>Gender</th>\n",
       "      <th>Age</th>\n",
       "      <th>Occupation</th>\n",
       "      <th>City</th>\n",
       "      <th>Years_in_City</th>\n",
       "      <th>Marital_Status</th>\n",
       "      <th>Product_Category_1</th>\n",
       "      <th>Product_Category_2</th>\n",
       "      <th>Purchase</th>\n",
       "    </tr>\n",
       "  </thead>\n",
       "  <tbody>\n",
       "    <tr>\n",
       "      <th>0</th>\n",
       "      <td>1</td>\n",
       "      <td>Child</td>\n",
       "      <td>10</td>\n",
       "      <td>A</td>\n",
       "      <td>2</td>\n",
       "      <td>0</td>\n",
       "      <td>3</td>\n",
       "      <td>4</td>\n",
       "      <td>8370</td>\n",
       "    </tr>\n",
       "    <tr>\n",
       "      <th>1</th>\n",
       "      <td>1</td>\n",
       "      <td>Child</td>\n",
       "      <td>10</td>\n",
       "      <td>A</td>\n",
       "      <td>2</td>\n",
       "      <td>0</td>\n",
       "      <td>1</td>\n",
       "      <td>6</td>\n",
       "      <td>15200</td>\n",
       "    </tr>\n",
       "    <tr>\n",
       "      <th>2</th>\n",
       "      <td>1</td>\n",
       "      <td>Child</td>\n",
       "      <td>10</td>\n",
       "      <td>A</td>\n",
       "      <td>2</td>\n",
       "      <td>0</td>\n",
       "      <td>12</td>\n",
       "      <td>4</td>\n",
       "      <td>1422</td>\n",
       "    </tr>\n",
       "    <tr>\n",
       "      <th>3</th>\n",
       "      <td>1</td>\n",
       "      <td>Child</td>\n",
       "      <td>10</td>\n",
       "      <td>A</td>\n",
       "      <td>2</td>\n",
       "      <td>0</td>\n",
       "      <td>12</td>\n",
       "      <td>14</td>\n",
       "      <td>1057</td>\n",
       "    </tr>\n",
       "    <tr>\n",
       "      <th>4</th>\n",
       "      <td>0</td>\n",
       "      <td>Old</td>\n",
       "      <td>16</td>\n",
       "      <td>C</td>\n",
       "      <td>4</td>\n",
       "      <td>0</td>\n",
       "      <td>8</td>\n",
       "      <td>8</td>\n",
       "      <td>7969</td>\n",
       "    </tr>\n",
       "    <tr>\n",
       "      <th>5</th>\n",
       "      <td>0</td>\n",
       "      <td>Adult</td>\n",
       "      <td>15</td>\n",
       "      <td>A</td>\n",
       "      <td>3</td>\n",
       "      <td>0</td>\n",
       "      <td>1</td>\n",
       "      <td>2</td>\n",
       "      <td>15227</td>\n",
       "    </tr>\n",
       "    <tr>\n",
       "      <th>6</th>\n",
       "      <td>0</td>\n",
       "      <td>Adult</td>\n",
       "      <td>7</td>\n",
       "      <td>B</td>\n",
       "      <td>2</td>\n",
       "      <td>1</td>\n",
       "      <td>1</td>\n",
       "      <td>8</td>\n",
       "      <td>19215</td>\n",
       "    </tr>\n",
       "    <tr>\n",
       "      <th>7</th>\n",
       "      <td>0</td>\n",
       "      <td>Adult</td>\n",
       "      <td>7</td>\n",
       "      <td>B</td>\n",
       "      <td>2</td>\n",
       "      <td>1</td>\n",
       "      <td>1</td>\n",
       "      <td>15</td>\n",
       "      <td>15854</td>\n",
       "    </tr>\n",
       "    <tr>\n",
       "      <th>8</th>\n",
       "      <td>0</td>\n",
       "      <td>Adult</td>\n",
       "      <td>7</td>\n",
       "      <td>B</td>\n",
       "      <td>2</td>\n",
       "      <td>1</td>\n",
       "      <td>1</td>\n",
       "      <td>16</td>\n",
       "      <td>15686</td>\n",
       "    </tr>\n",
       "    <tr>\n",
       "      <th>9</th>\n",
       "      <td>0</td>\n",
       "      <td>Adult</td>\n",
       "      <td>20</td>\n",
       "      <td>A</td>\n",
       "      <td>1</td>\n",
       "      <td>1</td>\n",
       "      <td>8</td>\n",
       "      <td>8</td>\n",
       "      <td>7871</td>\n",
       "    </tr>\n",
       "  </tbody>\n",
       "</table>\n",
       "</div>"
      ],
      "text/plain": [
       "   Gender    Age  Occupation City  Years_in_City  Marital_Status  \\\n",
       "0       1  Child          10    A              2               0   \n",
       "1       1  Child          10    A              2               0   \n",
       "2       1  Child          10    A              2               0   \n",
       "3       1  Child          10    A              2               0   \n",
       "4       0    Old          16    C              4               0   \n",
       "5       0  Adult          15    A              3               0   \n",
       "6       0  Adult           7    B              2               1   \n",
       "7       0  Adult           7    B              2               1   \n",
       "8       0  Adult           7    B              2               1   \n",
       "9       0  Adult          20    A              1               1   \n",
       "\n",
       "   Product_Category_1  Product_Category_2  Purchase  \n",
       "0                   3                   4      8370  \n",
       "1                   1                   6     15200  \n",
       "2                  12                   4      1422  \n",
       "3                  12                  14      1057  \n",
       "4                   8                   8      7969  \n",
       "5                   1                   2     15227  \n",
       "6                   1                   8     19215  \n",
       "7                   1                  15     15854  \n",
       "8                   1                  16     15686  \n",
       "9                   8                   8      7871  "
      ]
     },
     "execution_count": 25,
     "metadata": {},
     "output_type": "execute_result"
    }
   ],
   "source": [
    "df['Product_Category_2']=df['Product_Category_2'].astype(int)\n",
    "df.head(10)"
   ]
  },
  {
   "cell_type": "code",
   "execution_count": 26,
   "id": "b08c6582",
   "metadata": {
    "execution": {
     "iopub.execute_input": "2023-12-20T06:56:13.356189Z",
     "iopub.status.busy": "2023-12-20T06:56:13.355797Z",
     "iopub.status.idle": "2023-12-20T06:56:13.492421Z",
     "shell.execute_reply": "2023-12-20T06:56:13.491207Z"
    },
    "papermill": {
     "duration": 0.1632,
     "end_time": "2023-12-20T06:56:13.497163",
     "exception": false,
     "start_time": "2023-12-20T06:56:13.333963",
     "status": "completed"
    },
    "tags": []
   },
   "outputs": [
    {
     "data": {
      "text/plain": [
       "Gender                0\n",
       "Age                   0\n",
       "Occupation            0\n",
       "City                  0\n",
       "Years_in_City         0\n",
       "Marital_Status        0\n",
       "Product_Category_1    0\n",
       "Product_Category_2    0\n",
       "Purchase              0\n",
       "dtype: int64"
      ]
     },
     "execution_count": 26,
     "metadata": {},
     "output_type": "execute_result"
    }
   ],
   "source": [
    "df.isnull().sum()"
   ]
  },
  {
   "cell_type": "code",
   "execution_count": 27,
   "id": "197f227b",
   "metadata": {
    "execution": {
     "iopub.execute_input": "2023-12-20T06:56:13.549724Z",
     "iopub.status.busy": "2023-12-20T06:56:13.549334Z",
     "iopub.status.idle": "2023-12-20T06:56:13.564742Z",
     "shell.execute_reply": "2023-12-20T06:56:13.563611Z"
    },
    "papermill": {
     "duration": 0.044792,
     "end_time": "2023-12-20T06:56:13.567694",
     "exception": false,
     "start_time": "2023-12-20T06:56:13.522902",
     "status": "completed"
    },
    "tags": []
   },
   "outputs": [
    {
     "data": {
      "text/html": [
       "<div>\n",
       "<style scoped>\n",
       "    .dataframe tbody tr th:only-of-type {\n",
       "        vertical-align: middle;\n",
       "    }\n",
       "\n",
       "    .dataframe tbody tr th {\n",
       "        vertical-align: top;\n",
       "    }\n",
       "\n",
       "    .dataframe thead th {\n",
       "        text-align: right;\n",
       "    }\n",
       "</style>\n",
       "<table border=\"1\" class=\"dataframe\">\n",
       "  <thead>\n",
       "    <tr style=\"text-align: right;\">\n",
       "      <th></th>\n",
       "      <th>Gender</th>\n",
       "      <th>Age</th>\n",
       "      <th>Occupation</th>\n",
       "      <th>City</th>\n",
       "      <th>Years_in_City</th>\n",
       "      <th>Marital_Status</th>\n",
       "      <th>Product_Category_1</th>\n",
       "      <th>Product_Category_2</th>\n",
       "      <th>Purchase</th>\n",
       "    </tr>\n",
       "  </thead>\n",
       "  <tbody>\n",
       "    <tr>\n",
       "      <th>0</th>\n",
       "      <td>1</td>\n",
       "      <td>Child</td>\n",
       "      <td>10</td>\n",
       "      <td>A</td>\n",
       "      <td>2</td>\n",
       "      <td>0</td>\n",
       "      <td>3</td>\n",
       "      <td>4</td>\n",
       "      <td>8370</td>\n",
       "    </tr>\n",
       "    <tr>\n",
       "      <th>1</th>\n",
       "      <td>1</td>\n",
       "      <td>Child</td>\n",
       "      <td>10</td>\n",
       "      <td>A</td>\n",
       "      <td>2</td>\n",
       "      <td>0</td>\n",
       "      <td>1</td>\n",
       "      <td>6</td>\n",
       "      <td>15200</td>\n",
       "    </tr>\n",
       "    <tr>\n",
       "      <th>2</th>\n",
       "      <td>1</td>\n",
       "      <td>Child</td>\n",
       "      <td>10</td>\n",
       "      <td>A</td>\n",
       "      <td>2</td>\n",
       "      <td>0</td>\n",
       "      <td>12</td>\n",
       "      <td>4</td>\n",
       "      <td>1422</td>\n",
       "    </tr>\n",
       "    <tr>\n",
       "      <th>3</th>\n",
       "      <td>1</td>\n",
       "      <td>Child</td>\n",
       "      <td>10</td>\n",
       "      <td>A</td>\n",
       "      <td>2</td>\n",
       "      <td>0</td>\n",
       "      <td>12</td>\n",
       "      <td>14</td>\n",
       "      <td>1057</td>\n",
       "    </tr>\n",
       "    <tr>\n",
       "      <th>4</th>\n",
       "      <td>0</td>\n",
       "      <td>Old</td>\n",
       "      <td>16</td>\n",
       "      <td>C</td>\n",
       "      <td>4</td>\n",
       "      <td>0</td>\n",
       "      <td>8</td>\n",
       "      <td>8</td>\n",
       "      <td>7969</td>\n",
       "    </tr>\n",
       "    <tr>\n",
       "      <th>5</th>\n",
       "      <td>0</td>\n",
       "      <td>Adult</td>\n",
       "      <td>15</td>\n",
       "      <td>A</td>\n",
       "      <td>3</td>\n",
       "      <td>0</td>\n",
       "      <td>1</td>\n",
       "      <td>2</td>\n",
       "      <td>15227</td>\n",
       "    </tr>\n",
       "    <tr>\n",
       "      <th>6</th>\n",
       "      <td>0</td>\n",
       "      <td>Adult</td>\n",
       "      <td>7</td>\n",
       "      <td>B</td>\n",
       "      <td>2</td>\n",
       "      <td>1</td>\n",
       "      <td>1</td>\n",
       "      <td>8</td>\n",
       "      <td>19215</td>\n",
       "    </tr>\n",
       "    <tr>\n",
       "      <th>7</th>\n",
       "      <td>0</td>\n",
       "      <td>Adult</td>\n",
       "      <td>7</td>\n",
       "      <td>B</td>\n",
       "      <td>2</td>\n",
       "      <td>1</td>\n",
       "      <td>1</td>\n",
       "      <td>15</td>\n",
       "      <td>15854</td>\n",
       "    </tr>\n",
       "    <tr>\n",
       "      <th>8</th>\n",
       "      <td>0</td>\n",
       "      <td>Adult</td>\n",
       "      <td>7</td>\n",
       "      <td>B</td>\n",
       "      <td>2</td>\n",
       "      <td>1</td>\n",
       "      <td>1</td>\n",
       "      <td>16</td>\n",
       "      <td>15686</td>\n",
       "    </tr>\n",
       "    <tr>\n",
       "      <th>9</th>\n",
       "      <td>0</td>\n",
       "      <td>Adult</td>\n",
       "      <td>20</td>\n",
       "      <td>A</td>\n",
       "      <td>1</td>\n",
       "      <td>1</td>\n",
       "      <td>8</td>\n",
       "      <td>8</td>\n",
       "      <td>7871</td>\n",
       "    </tr>\n",
       "  </tbody>\n",
       "</table>\n",
       "</div>"
      ],
      "text/plain": [
       "   Gender    Age  Occupation City  Years_in_City  Marital_Status  \\\n",
       "0       1  Child          10    A              2               0   \n",
       "1       1  Child          10    A              2               0   \n",
       "2       1  Child          10    A              2               0   \n",
       "3       1  Child          10    A              2               0   \n",
       "4       0    Old          16    C              4               0   \n",
       "5       0  Adult          15    A              3               0   \n",
       "6       0  Adult           7    B              2               1   \n",
       "7       0  Adult           7    B              2               1   \n",
       "8       0  Adult           7    B              2               1   \n",
       "9       0  Adult          20    A              1               1   \n",
       "\n",
       "   Product_Category_1  Product_Category_2  Purchase  \n",
       "0                   3                   4      8370  \n",
       "1                   1                   6     15200  \n",
       "2                  12                   4      1422  \n",
       "3                  12                  14      1057  \n",
       "4                   8                   8      7969  \n",
       "5                   1                   2     15227  \n",
       "6                   1                   8     19215  \n",
       "7                   1                  15     15854  \n",
       "8                   1                  16     15686  \n",
       "9                   8                   8      7871  "
      ]
     },
     "execution_count": 27,
     "metadata": {},
     "output_type": "execute_result"
    }
   ],
   "source": [
    "df.head(10)"
   ]
  },
  {
   "cell_type": "markdown",
   "id": "0231df8c",
   "metadata": {
    "papermill": {
     "duration": 0.020582,
     "end_time": "2023-12-20T06:56:13.609097",
     "exception": false,
     "start_time": "2023-12-20T06:56:13.588515",
     "status": "completed"
    },
    "tags": []
   },
   "source": [
    "Data Visualization"
   ]
  },
  {
   "cell_type": "code",
   "execution_count": 28,
   "id": "d951014f",
   "metadata": {
    "execution": {
     "iopub.execute_input": "2023-12-20T06:56:13.653181Z",
     "iopub.status.busy": "2023-12-20T06:56:13.652106Z",
     "iopub.status.idle": "2023-12-20T06:56:15.389445Z",
     "shell.execute_reply": "2023-12-20T06:56:15.388145Z"
    },
    "papermill": {
     "duration": 1.763068,
     "end_time": "2023-12-20T06:56:15.392870",
     "exception": false,
     "start_time": "2023-12-20T06:56:13.629802",
     "status": "completed"
    },
    "tags": []
   },
   "outputs": [],
   "source": [
    "import seaborn as sns\n",
    "import numpy as np\n",
    "import matplotlib.pyplot as plt\n",
    "%matplotlib inline"
   ]
  },
  {
   "cell_type": "code",
   "execution_count": 29,
   "id": "e8340e70",
   "metadata": {
    "execution": {
     "iopub.execute_input": "2023-12-20T06:56:15.440053Z",
     "iopub.status.busy": "2023-12-20T06:56:15.438672Z",
     "iopub.status.idle": "2023-12-20T06:56:25.823985Z",
     "shell.execute_reply": "2023-12-20T06:56:25.822822Z"
    },
    "papermill": {
     "duration": 10.412625,
     "end_time": "2023-12-20T06:56:25.826800",
     "exception": false,
     "start_time": "2023-12-20T06:56:15.414175",
     "status": "completed"
    },
    "tags": []
   },
   "outputs": [
    {
     "data": {
      "text/plain": [
       "Text(0.5, 1.0, 'Age VS Purchase')"
      ]
     },
     "execution_count": 29,
     "metadata": {},
     "output_type": "execute_result"
    },
    {
     "data": {
      "image/png": "[encoded data removed]",
      "text/plain": [
       "<Figure size 600x500 with 1 Axes>"
      ]
     },
     "metadata": {},
     "output_type": "display_data"
    }
   ],
   "source": [
    "sns.set_theme(style=\"whitegrid\")\n",
    "plt.figure(figsize= (6,5))\n",
    "s=sns.barplot(x='Age',y='Purchase',data=df,palette='tab10')\n",
    "s.set_title(\"Age VS Purchase\")"
   ]
  },
  {
   "cell_type": "code",
   "execution_count": 30,
   "id": "0a5f786b",
   "metadata": {
    "execution": {
     "iopub.execute_input": "2023-12-20T06:56:25.872832Z",
     "iopub.status.busy": "2023-12-20T06:56:25.872415Z",
     "iopub.status.idle": "2023-12-20T06:56:36.153819Z",
     "shell.execute_reply": "2023-12-20T06:56:36.152489Z"
    },
    "papermill": {
     "duration": 10.307367,
     "end_time": "2023-12-20T06:56:36.156523",
     "exception": false,
     "start_time": "2023-12-20T06:56:25.849156",
     "status": "completed"
    },
    "tags": []
   },
   "outputs": [
    {
     "data": {
      "text/plain": [
       "Text(0.5, 1.0, 'Age VS Purchase')"
      ]
     },
     "execution_count": 30,
     "metadata": {},
     "output_type": "execute_result"
    },
    {
     "data": {
      "image/png": "[encoded data removed]",
      "text/plain": [
       "<Figure size 600x500 with 1 Axes>"
      ]
     },
     "metadata": {},
     "output_type": "display_data"
    }
   ],
   "source": [
    "sns.set_theme(style=\"whitegrid\")\n",
    "plt.figure(figsize= (6,5))\n",
    "s=sns.barplot(x='Age',y='Purchase',data=df,palette='tab10')\n",
    "s.set_title(\"Age VS Purchase\")"
   ]
  },
  {
   "cell_type": "code",
   "execution_count": 31,
   "id": "c5b4c832",
   "metadata": {
    "execution": {
     "iopub.execute_input": "2023-12-20T06:56:36.202902Z",
     "iopub.status.busy": "2023-12-20T06:56:36.202459Z",
     "iopub.status.idle": "2023-12-20T06:56:44.150352Z",
     "shell.execute_reply": "2023-12-20T06:56:44.149075Z"
    },
    "papermill": {
     "duration": 7.974212,
     "end_time": "2023-12-20T06:56:44.153151",
     "exception": false,
     "start_time": "2023-12-20T06:56:36.178939",
     "status": "completed"
    },
    "tags": []
   },
   "outputs": [
    {
     "data": {
      "text/plain": [
       "Text(0.5, 1.0, 'occupation VS Purchase')"
      ]
     },
     "execution_count": 31,
     "metadata": {},
     "output_type": "execute_result"
    },
    {
     "data": {
      "image/png": "[encoded data removed]",
      "text/plain": [
       "<Figure size 1000x700 with 1 Axes>"
      ]
     },
     "metadata": {},
     "output_type": "display_data"
    }
   ],
   "source": [
    "sns.set_theme(style=\"whitegrid\")\n",
    "plt.figure(figsize= (10,7))\n",
    "s=sns.barplot(x='Occupation',y='Purchase',data=df,palette='tab10')\n",
    "s.set_title(\"occupation VS Purchase\")"
   ]
  },
  {
   "cell_type": "code",
   "execution_count": 32,
   "id": "759f431b",
   "metadata": {
    "execution": {
     "iopub.execute_input": "2023-12-20T06:56:44.201434Z",
     "iopub.status.busy": "2023-12-20T06:56:44.200763Z",
     "iopub.status.idle": "2023-12-20T06:56:52.726948Z",
     "shell.execute_reply": "2023-12-20T06:56:52.725676Z"
    },
    "papermill": {
     "duration": 8.553346,
     "end_time": "2023-12-20T06:56:52.729539",
     "exception": false,
     "start_time": "2023-12-20T06:56:44.176193",
     "status": "completed"
    },
    "tags": []
   },
   "outputs": [
    {
     "data": {
      "text/plain": [
       "<Axes: title={'center': 'City vs Purchase'}, xlabel='City', ylabel='Purchase'>"
      ]
     },
     "execution_count": 32,
     "metadata": {},
     "output_type": "execute_result"
    },
    {
     "data": {
      "image/png": "[encoded data removed]",
      "text/plain": [
       "<Figure size 640x480 with 1 Axes>"
      ]
     },
     "metadata": {},
     "output_type": "display_data"
    }
   ],
   "source": [
    "plt.title('City vs Purchase')\n",
    "sns.barplot(data=df,x='City',y='Purchase',hue='Gender',palette='tab10')"
   ]
  },
  {
   "cell_type": "code",
   "execution_count": 33,
   "id": "250f7edc",
   "metadata": {
    "execution": {
     "iopub.execute_input": "2023-12-20T06:56:52.778761Z",
     "iopub.status.busy": "2023-12-20T06:56:52.778347Z",
     "iopub.status.idle": "2023-12-20T06:57:01.227289Z",
     "shell.execute_reply": "2023-12-20T06:57:01.226215Z"
    },
    "papermill": {
     "duration": 8.476738,
     "end_time": "2023-12-20T06:57:01.230096",
     "exception": false,
     "start_time": "2023-12-20T06:56:52.753358",
     "status": "completed"
    },
    "tags": []
   },
   "outputs": [
    {
     "data": {
      "text/plain": [
       "<Axes: title={'center': 'product1 vs purchase'}, xlabel='Product_Category_1', ylabel='Purchase'>"
      ]
     },
     "execution_count": 33,
     "metadata": {},
     "output_type": "execute_result"
    },
    {
     "data": {
      "image/png": "[encoded data removed]",
      "text/plain": [
       "<Figure size 700x500 with 1 Axes>"
      ]
     },
     "metadata": {},
     "output_type": "display_data"
    }
   ],
   "source": [
    "plt.figure(figsize=(7,5))\n",
    "plt.title('product1 vs purchase')\n",
    "sns.barplot(x='Product_Category_1',y='Purchase',data=df)"
   ]
  },
  {
   "cell_type": "code",
   "execution_count": 34,
   "id": "bba82c78",
   "metadata": {
    "execution": {
     "iopub.execute_input": "2023-12-20T06:57:01.281031Z",
     "iopub.status.busy": "2023-12-20T06:57:01.280637Z",
     "iopub.status.idle": "2023-12-20T06:57:10.138260Z",
     "shell.execute_reply": "2023-12-20T06:57:10.137066Z"
    },
    "papermill": {
     "duration": 8.886148,
     "end_time": "2023-12-20T06:57:10.140901",
     "exception": false,
     "start_time": "2023-12-20T06:57:01.254753",
     "status": "completed"
    },
    "tags": []
   },
   "outputs": [
    {
     "data": {
      "text/plain": [
       "<Axes: title={'center': 'product2 vs purchase'}, xlabel='Product_Category_2', ylabel='Purchase'>"
      ]
     },
     "execution_count": 34,
     "metadata": {},
     "output_type": "execute_result"
    },
    {
     "data": {
      "image/png": "[encoded data removed]",
      "text/plain": [
       "<Figure size 600x500 with 1 Axes>"
      ]
     },
     "metadata": {},
     "output_type": "display_data"
    }
   ],
   "source": [
    "plt.figure(figsize=(6,5))\n",
    "plt.title('product2 vs purchase')\n",
    "sns.barplot(x='Product_Category_2',y='Purchase',data=df)"
   ]
  },
  {
   "cell_type": "markdown",
   "id": "17b3e015",
   "metadata": {
    "papermill": {
     "duration": 0.024661,
     "end_time": "2023-12-20T06:57:10.190591",
     "exception": false,
     "start_time": "2023-12-20T06:57:10.165930",
     "status": "completed"
    },
    "tags": []
   },
   "source": [
    "City category"
   ]
  },
  {
   "cell_type": "code",
   "execution_count": 35,
   "id": "e4d13ed9",
   "metadata": {
    "execution": {
     "iopub.execute_input": "2023-12-20T06:57:10.243785Z",
     "iopub.status.busy": "2023-12-20T06:57:10.243244Z",
     "iopub.status.idle": "2023-12-20T06:57:10.320506Z",
     "shell.execute_reply": "2023-12-20T06:57:10.319562Z"
    },
    "papermill": {
     "duration": 0.106761,
     "end_time": "2023-12-20T06:57:10.323012",
     "exception": false,
     "start_time": "2023-12-20T06:57:10.216251",
     "status": "completed"
    },
    "tags": []
   },
   "outputs": [
    {
     "data": {
      "text/plain": [
       "City\n",
       "B    231173\n",
       "C    171175\n",
       "A    147720\n",
       "Name: count, dtype: int64"
      ]
     },
     "execution_count": 35,
     "metadata": {},
     "output_type": "execute_result"
    }
   ],
   "source": [
    "d1=df['City'].value_counts()\n",
    "d1"
   ]
  },
  {
   "cell_type": "code",
   "execution_count": 36,
   "id": "56cb0480",
   "metadata": {
    "execution": {
     "iopub.execute_input": "2023-12-20T06:57:10.377011Z",
     "iopub.status.busy": "2023-12-20T06:57:10.375825Z",
     "iopub.status.idle": "2023-12-20T06:57:10.634348Z",
     "shell.execute_reply": "2023-12-20T06:57:10.632577Z"
    },
    "papermill": {
     "duration": 0.289494,
     "end_time": "2023-12-20T06:57:10.638725",
     "exception": false,
     "start_time": "2023-12-20T06:57:10.349231",
     "status": "completed"
    },
    "tags": []
   },
   "outputs": [
    {
     "data": {
      "text/plain": [
       "<Axes: ylabel='count'>"
      ]
     },
     "execution_count": 36,
     "metadata": {},
     "output_type": "execute_result"
    },
    {
     "data": {
      "image/png": "[encoded data removed]",
      "text/plain": [
       "<Figure size 600x600 with 1 Axes>"
      ]
     },
     "metadata": {},
     "output_type": "display_data"
    }
   ],
   "source": [
    "d1.plot(kind='pie',autopct='%.1f%%',figsize=(6,6),shadow=True)"
   ]
  },
  {
   "cell_type": "code",
   "execution_count": 37,
   "id": "14982f75",
   "metadata": {
    "execution": {
     "iopub.execute_input": "2023-12-20T06:57:10.711015Z",
     "iopub.status.busy": "2023-12-20T06:57:10.710571Z",
     "iopub.status.idle": "2023-12-20T06:57:10.728552Z",
     "shell.execute_reply": "2023-12-20T06:57:10.727600Z"
    },
    "papermill": {
     "duration": 0.047634,
     "end_time": "2023-12-20T06:57:10.731009",
     "exception": false,
     "start_time": "2023-12-20T06:57:10.683375",
     "status": "completed"
    },
    "tags": []
   },
   "outputs": [
    {
     "data": {
      "text/html": [
       "<div>\n",
       "<style scoped>\n",
       "    .dataframe tbody tr th:only-of-type {\n",
       "        vertical-align: middle;\n",
       "    }\n",
       "\n",
       "    .dataframe tbody tr th {\n",
       "        vertical-align: top;\n",
       "    }\n",
       "\n",
       "    .dataframe thead th {\n",
       "        text-align: right;\n",
       "    }\n",
       "</style>\n",
       "<table border=\"1\" class=\"dataframe\">\n",
       "  <thead>\n",
       "    <tr style=\"text-align: right;\">\n",
       "      <th></th>\n",
       "      <th>Gender</th>\n",
       "      <th>Age</th>\n",
       "      <th>Occupation</th>\n",
       "      <th>City</th>\n",
       "      <th>Years_in_City</th>\n",
       "      <th>Marital_Status</th>\n",
       "      <th>Product_Category_1</th>\n",
       "      <th>Product_Category_2</th>\n",
       "      <th>Purchase</th>\n",
       "    </tr>\n",
       "  </thead>\n",
       "  <tbody>\n",
       "    <tr>\n",
       "      <th>0</th>\n",
       "      <td>1</td>\n",
       "      <td>Child</td>\n",
       "      <td>10</td>\n",
       "      <td>A</td>\n",
       "      <td>2</td>\n",
       "      <td>0</td>\n",
       "      <td>3</td>\n",
       "      <td>4</td>\n",
       "      <td>8370</td>\n",
       "    </tr>\n",
       "    <tr>\n",
       "      <th>1</th>\n",
       "      <td>1</td>\n",
       "      <td>Child</td>\n",
       "      <td>10</td>\n",
       "      <td>A</td>\n",
       "      <td>2</td>\n",
       "      <td>0</td>\n",
       "      <td>1</td>\n",
       "      <td>6</td>\n",
       "      <td>15200</td>\n",
       "    </tr>\n",
       "    <tr>\n",
       "      <th>2</th>\n",
       "      <td>1</td>\n",
       "      <td>Child</td>\n",
       "      <td>10</td>\n",
       "      <td>A</td>\n",
       "      <td>2</td>\n",
       "      <td>0</td>\n",
       "      <td>12</td>\n",
       "      <td>4</td>\n",
       "      <td>1422</td>\n",
       "    </tr>\n",
       "    <tr>\n",
       "      <th>3</th>\n",
       "      <td>1</td>\n",
       "      <td>Child</td>\n",
       "      <td>10</td>\n",
       "      <td>A</td>\n",
       "      <td>2</td>\n",
       "      <td>0</td>\n",
       "      <td>12</td>\n",
       "      <td>14</td>\n",
       "      <td>1057</td>\n",
       "    </tr>\n",
       "    <tr>\n",
       "      <th>4</th>\n",
       "      <td>0</td>\n",
       "      <td>Old</td>\n",
       "      <td>16</td>\n",
       "      <td>C</td>\n",
       "      <td>4</td>\n",
       "      <td>0</td>\n",
       "      <td>8</td>\n",
       "      <td>8</td>\n",
       "      <td>7969</td>\n",
       "    </tr>\n",
       "    <tr>\n",
       "      <th>5</th>\n",
       "      <td>0</td>\n",
       "      <td>Adult</td>\n",
       "      <td>15</td>\n",
       "      <td>A</td>\n",
       "      <td>3</td>\n",
       "      <td>0</td>\n",
       "      <td>1</td>\n",
       "      <td>2</td>\n",
       "      <td>15227</td>\n",
       "    </tr>\n",
       "    <tr>\n",
       "      <th>6</th>\n",
       "      <td>0</td>\n",
       "      <td>Adult</td>\n",
       "      <td>7</td>\n",
       "      <td>B</td>\n",
       "      <td>2</td>\n",
       "      <td>1</td>\n",
       "      <td>1</td>\n",
       "      <td>8</td>\n",
       "      <td>19215</td>\n",
       "    </tr>\n",
       "    <tr>\n",
       "      <th>7</th>\n",
       "      <td>0</td>\n",
       "      <td>Adult</td>\n",
       "      <td>7</td>\n",
       "      <td>B</td>\n",
       "      <td>2</td>\n",
       "      <td>1</td>\n",
       "      <td>1</td>\n",
       "      <td>15</td>\n",
       "      <td>15854</td>\n",
       "    </tr>\n",
       "    <tr>\n",
       "      <th>8</th>\n",
       "      <td>0</td>\n",
       "      <td>Adult</td>\n",
       "      <td>7</td>\n",
       "      <td>B</td>\n",
       "      <td>2</td>\n",
       "      <td>1</td>\n",
       "      <td>1</td>\n",
       "      <td>16</td>\n",
       "      <td>15686</td>\n",
       "    </tr>\n",
       "    <tr>\n",
       "      <th>9</th>\n",
       "      <td>0</td>\n",
       "      <td>Adult</td>\n",
       "      <td>20</td>\n",
       "      <td>A</td>\n",
       "      <td>1</td>\n",
       "      <td>1</td>\n",
       "      <td>8</td>\n",
       "      <td>8</td>\n",
       "      <td>7871</td>\n",
       "    </tr>\n",
       "  </tbody>\n",
       "</table>\n",
       "</div>"
      ],
      "text/plain": [
       "   Gender    Age  Occupation City  Years_in_City  Marital_Status  \\\n",
       "0       1  Child          10    A              2               0   \n",
       "1       1  Child          10    A              2               0   \n",
       "2       1  Child          10    A              2               0   \n",
       "3       1  Child          10    A              2               0   \n",
       "4       0    Old          16    C              4               0   \n",
       "5       0  Adult          15    A              3               0   \n",
       "6       0  Adult           7    B              2               1   \n",
       "7       0  Adult           7    B              2               1   \n",
       "8       0  Adult           7    B              2               1   \n",
       "9       0  Adult          20    A              1               1   \n",
       "\n",
       "   Product_Category_1  Product_Category_2  Purchase  \n",
       "0                   3                   4      8370  \n",
       "1                   1                   6     15200  \n",
       "2                  12                   4      1422  \n",
       "3                  12                  14      1057  \n",
       "4                   8                   8      7969  \n",
       "5                   1                   2     15227  \n",
       "6                   1                   8     19215  \n",
       "7                   1                  15     15854  \n",
       "8                   1                  16     15686  \n",
       "9                   8                   8      7871  "
      ]
     },
     "execution_count": 37,
     "metadata": {},
     "output_type": "execute_result"
    }
   ],
   "source": [
    "df.head(10)"
   ]
  },
  {
   "cell_type": "code",
   "execution_count": 38,
   "id": "e6f70593",
   "metadata": {
    "execution": {
     "iopub.execute_input": "2023-12-20T06:57:10.785851Z",
     "iopub.status.busy": "2023-12-20T06:57:10.785176Z",
     "iopub.status.idle": "2023-12-20T06:57:11.140995Z",
     "shell.execute_reply": "2023-12-20T06:57:11.139606Z"
    },
    "papermill": {
     "duration": 0.386861,
     "end_time": "2023-12-20T06:57:11.144076",
     "exception": false,
     "start_time": "2023-12-20T06:57:10.757215",
     "status": "completed"
    },
    "tags": []
   },
   "outputs": [
    {
     "data": {
      "text/plain": [
       "Text(0.5, 1.0, 'Gender')"
      ]
     },
     "execution_count": 38,
     "metadata": {},
     "output_type": "execute_result"
    },
    {
     "data": {
      "image/png": "[encoded data removed]",
      "text/plain": [
       "<Figure size 600x600 with 1 Axes>"
      ]
     },
     "metadata": {},
     "output_type": "display_data"
    }
   ],
   "source": [
    "df[\"Gender\"].value_counts().plot(kind='bar',figsize=(6,6))\n",
    "plt.title('Gender')"
   ]
  },
  {
   "cell_type": "markdown",
   "id": "83d51851",
   "metadata": {
    "papermill": {
     "duration": 0.026682,
     "end_time": "2023-12-20T06:57:11.197781",
     "exception": false,
     "start_time": "2023-12-20T06:57:11.171099",
     "status": "completed"
    },
    "tags": []
   },
   "source": [
    "Visualize individual column"
   ]
  },
  {
   "cell_type": "code",
   "execution_count": 39,
   "id": "ea96d44f",
   "metadata": {
    "execution": {
     "iopub.execute_input": "2023-12-20T06:57:11.256023Z",
     "iopub.status.busy": "2023-12-20T06:57:11.255608Z",
     "iopub.status.idle": "2023-12-20T06:57:13.520291Z",
     "shell.execute_reply": "2023-12-20T06:57:13.518875Z"
    },
    "papermill": {
     "duration": 2.297648,
     "end_time": "2023-12-20T06:57:13.524291",
     "exception": false,
     "start_time": "2023-12-20T06:57:11.226643",
     "status": "completed"
    },
    "tags": []
   },
   "outputs": [
    {
     "data": {
      "text/plain": [
       "Text(0.5, 1.0, 'Years_in_City')"
      ]
     },
     "execution_count": 39,
     "metadata": {},
     "output_type": "execute_result"
    },
    {
     "data": {
      "text/plain": [
       "<Figure size 640x480 with 0 Axes>"
      ]
     },
     "metadata": {},
     "output_type": "display_data"
    },
    {
     "data": {
      "image/png": "[encoded data removed]",
      "text/plain": [
       "<Figure size 2000x1500 with 6 Axes>"
      ]
     },
     "metadata": {},
     "output_type": "display_data"
    }
   ],
   "source": [
    "plt.figure(1)\n",
    "plt.figure(figsize=(20,15))\n",
    "\n",
    "plt.subplot(321)\n",
    "df['Gender'].value_counts().plot(kind='bar',color='magenta',rot=0)\n",
    "plt.title('Gender')\n",
    "\n",
    "plt.subplot(322)\n",
    "df['City'].value_counts().plot(kind='bar',color='yellow',rot=0)\n",
    "plt.title('City')\n",
    "\n",
    "plt.subplot(323)\n",
    "df['Age'].value_counts().plot(kind='bar',color='purple',rot=0)\n",
    "plt.title('Age')\n",
    "\n",
    "plt.subplot(324)\n",
    "df['Occupation'].value_counts().plot(kind='bar',color=\"olive\",rot=0)\n",
    "plt.title('Occupation')\n",
    "\n",
    "plt.subplot(325)\n",
    "df['Marital_Status'].value_counts().plot(kind='bar',color='blue',rot=0)\n",
    "plt.title('Marital Status')\n",
    "\n",
    "plt.subplot(326)\n",
    "df['Years_in_City'].value_counts().plot(kind='bar',color='red',rot=0)\n",
    "plt.title('Years_in_City')"
   ]
  },
  {
   "cell_type": "markdown",
   "id": "54b7599f",
   "metadata": {
    "papermill": {
     "duration": 0.029749,
     "end_time": "2023-12-20T06:57:13.589369",
     "exception": false,
     "start_time": "2023-12-20T06:57:13.559620",
     "status": "completed"
    },
    "tags": []
   },
   "source": [
    "Marital Status vs Purchase"
   ]
  },
  {
   "cell_type": "code",
   "execution_count": 40,
   "id": "6ffa4c8b",
   "metadata": {
    "execution": {
     "iopub.execute_input": "2023-12-20T06:57:13.649260Z",
     "iopub.status.busy": "2023-12-20T06:57:13.648870Z",
     "iopub.status.idle": "2023-12-20T06:57:22.992848Z",
     "shell.execute_reply": "2023-12-20T06:57:22.991662Z"
    },
    "papermill": {
     "duration": 9.376982,
     "end_time": "2023-12-20T06:57:22.995589",
     "exception": false,
     "start_time": "2023-12-20T06:57:13.618607",
     "status": "completed"
    },
    "tags": []
   },
   "outputs": [
    {
     "data": {
      "text/plain": [
       "<Axes: title={'center': 'marital status vs purchase'}, xlabel='Marital_Status', ylabel='Purchase'>"
      ]
     },
     "execution_count": 40,
     "metadata": {},
     "output_type": "execute_result"
    },
    {
     "data": {
      "image/png": "[encoded data removed]",
      "text/plain": [
       "<Figure size 640x640 with 1 Axes>"
      ]
     },
     "metadata": {},
     "output_type": "display_data"
    }
   ],
   "source": [
    "plt.figure(figsize=(8,8),dpi=80)\n",
    "plt.title('marital status vs purchase')\n",
    "sns.barplot(x='Marital_Status',y='Purchase',data=df,palette='dark',hue='Age')"
   ]
  },
  {
   "cell_type": "code",
   "execution_count": 41,
   "id": "d0aa9361",
   "metadata": {
    "execution": {
     "iopub.execute_input": "2023-12-20T06:57:23.058105Z",
     "iopub.status.busy": "2023-12-20T06:57:23.057479Z",
     "iopub.status.idle": "2023-12-20T06:57:24.336907Z",
     "shell.execute_reply": "2023-12-20T06:57:24.335648Z"
    },
    "papermill": {
     "duration": 1.314908,
     "end_time": "2023-12-20T06:57:24.340195",
     "exception": false,
     "start_time": "2023-12-20T06:57:23.025287",
     "status": "completed"
    },
    "tags": []
   },
   "outputs": [
    {
     "data": {
      "text/plain": [
       "Text(0.5, 1.0, 'Product_Category_2')"
      ]
     },
     "execution_count": 41,
     "metadata": {},
     "output_type": "execute_result"
    },
    {
     "data": {
      "text/plain": [
       "<Figure size 640x480 with 0 Axes>"
      ]
     },
     "metadata": {},
     "output_type": "display_data"
    },
    {
     "data": {
      "image/png": "[encoded data removed]",
      "text/plain": [
       "<Figure size 2000x1500 with 2 Axes>"
      ]
     },
     "metadata": {},
     "output_type": "display_data"
    }
   ],
   "source": [
    "plt.figure(1)\n",
    "plt.figure(figsize=(20,15))\n",
    "\n",
    "plt.subplot(211)\n",
    "df['Product_Category_1'].value_counts().plot(kind='bar',color='purple',rot=0)\n",
    "plt.title('Product_Category_1')\n",
    "\n",
    "plt.subplot(212)\n",
    "df['Product_Category_2'].value_counts().plot(kind='bar',color='yellow',rot=0)\n",
    "plt.title('Product_Category_2')\n",
    "\n"
   ]
  },
  {
   "cell_type": "code",
   "execution_count": null,
   "id": "416dd670",
   "metadata": {
    "papermill": {
     "duration": 0.030761,
     "end_time": "2023-12-20T06:57:24.402025",
     "exception": false,
     "start_time": "2023-12-20T06:57:24.371264",
     "status": "completed"
    },
    "tags": []
   },
   "outputs": [],
   "source": []
  }
 ],
 "metadata": {
  "kaggle": {
   "accelerator": "none",
   "dataSources": [
    {
     "datasetId": 2457185,
     "sourceId": 4163061,
     "sourceType": "datasetVersion"
    }
   ],
   "dockerImageVersionId": 30626,
   "isGpuEnabled": false,
   "isInternetEnabled": false,
   "language": "python",
   "sourceType": "notebook"
  },
  "kernelspec": {
   "display_name": "Python 3",
   "language": "python",
   "name": "python3"
  },
  "language_info": {
   "codemirror_mode": {
    "name": "ipython",
    "version": 3
   },
   "file_extension": ".py",
   "mimetype": "text/x-python",
   "name": "python",
   "nbconvert_exporter": "python",
   "pygments_lexer": "ipython3",
   "version": "3.10.12"
  },
  "papermill": {
   "default_parameters": {},
   "duration": 81.100343,
   "end_time": "2023-12-20T06:57:25.255256",
   "environment_variables": {},
   "exception": null,
   "input_path": "__notebook__.ipynb",
   "output_path": "__notebook__.ipynb",
   "parameters": {},
   "start_time": "2023-12-20T06:56:04.154913",
   "version": "2.4.0"
  }
 },
 "nbformat": 4,
 "nbformat_minor": 5
}
